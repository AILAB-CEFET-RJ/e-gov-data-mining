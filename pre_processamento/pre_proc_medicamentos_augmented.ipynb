{
 "cells": [
  {
   "cell_type": "code",
   "execution_count": 1,
   "metadata": {},
   "outputs": [],
   "source": [
    "import sys\n",
    "sys.path.append('..')"
   ]
  },
  {
   "cell_type": "markdown",
   "metadata": {},
   "source": [
    "## Exemplo de uso da lib Extractor"
   ]
  },
  {
   "cell_type": "code",
   "execution_count": 2,
   "metadata": {},
   "outputs": [
    {
     "data": {
      "text/plain": [
       "('HYNALGIN DIPIRONA', '500MG/ML', None, '5ML')"
      ]
     },
     "execution_count": 2,
     "metadata": {},
     "output_type": "execute_result"
    }
   ],
   "source": [
    "from libs.extractor import Extractor as xtc\n",
    "\n",
    "descricao = 'HYNALGIN DIPIRONA 500MG/ML INJETÁVEL 5ML C/100'\n",
    "xtc.extract(descricao)"
   ]
  },
  {
   "cell_type": "markdown",
   "metadata": {},
   "source": [
    "## Config"
   ]
  },
  {
   "cell_type": "markdown",
   "metadata": {},
   "source": [
    "### Imports"
   ]
  },
  {
   "cell_type": "code",
   "execution_count": 3,
   "metadata": {},
   "outputs": [],
   "source": [
    "import pandas as pd\n",
    "import numpy as np\n",
    "import re\n",
    "import nltk\n",
    "#nltk.download('stopwords')\n",
    "#nltk.download('punkt')\n",
    "\n",
    "from nltk.tokenize import word_tokenize\n",
    "from nltk.corpus import stopwords\n",
    "from string import punctuation\n",
    "\n",
    "from libs.extractor import Extractor as xtc"
   ]
  },
  {
   "cell_type": "markdown",
   "metadata": {},
   "source": [
    "### Stopwords"
   ]
  },
  {
   "cell_type": "code",
   "execution_count": 4,
   "metadata": {},
   "outputs": [],
   "source": [
    "# loading new_stopwords\n",
    "with open('custom_stopwords.txt') as f:\n",
    "    data = f.read()\n",
    "new_stopwords = data.split()"
   ]
  },
  {
   "cell_type": "code",
   "execution_count": 5,
   "metadata": {},
   "outputs": [
    {
     "name": "stdout",
     "output_type": "stream",
     "text": [
      "236\n",
      "372\n"
     ]
    }
   ],
   "source": [
    "# updating stopwords with new_stopwords\n",
    "stopwords = set(stopwords.words('portuguese') + list(punctuation))\n",
    "print(len(stopwords))\n",
    "\n",
    "custom_stopwords = stopwords.copy()\n",
    "custom_stopwords.update(new_stopwords)\n",
    "print(len(custom_stopwords))"
   ]
  },
  {
   "cell_type": "markdown",
   "metadata": {},
   "source": [
    "### Functions"
   ]
  },
  {
   "cell_type": "code",
   "execution_count": 6,
   "metadata": {},
   "outputs": [],
   "source": [
    "def clean_desc(words, desc):\n",
    "    subs = [sub.strip() for sub in re.split('‹|–|::|-|\\|', desc)]  # split in substrings\n",
    "    new_desc = ''\n",
    "    \n",
    "    for sub in subs:\n",
    "        for word in words:\n",
    "            if word in sub.split():\n",
    "                new_desc += ' {}'.format(sub)\n",
    "                break\n",
    "                \n",
    "    return new_desc.strip()  # return without extra initial space\n",
    "\n",
    "\n",
    "def get_words(text):\n",
    "    return [w for w in word_tokenize(text) if w.lower() not in custom_stopwords]\n",
    "\n",
    "\n",
    "def remove_blank(terms):\n",
    "    return [re.sub('\\s', '', t) if t is not None else t for t in terms]"
   ]
  },
  {
   "cell_type": "code",
   "execution_count": 7,
   "metadata": {},
   "outputs": [
    {
     "name": "stdout",
     "output_type": "stream",
     "text": [
      "GLICOSE 5% CX C/40 FRASCOS X 250ML\n",
      "SORO DE GLICOSE 5%\n"
     ]
    }
   ],
   "source": [
    "# clean_desc Example\n",
    "desc = 'GLICOSE 5% CX C/40 FRASCOS X 250ML'\n",
    "deriv = 'SORO DE GLICOSE 5% - EUROFARMA | DENTAL CREMER PRODUTOS'\n",
    "\n",
    "print(desc)\n",
    "print(clean_desc(get_words(desc), deriv))"
   ]
  },
  {
   "cell_type": "code",
   "execution_count": 8,
   "metadata": {},
   "outputs": [
    {
     "name": "stdout",
     "output_type": "stream",
     "text": [
      "ESPIRONOLACTONA ---- 100MG ---- COM ---- 30\n"
     ]
    }
   ],
   "source": [
    "# Extractor example\n",
    "produto = 'ESPIRONOLACTONA 100MG CX C/30 CP'\n",
    "principio_ativo, concentracao, forma_farmaceutica, quantidade = xtc.extract(produto)\n",
    "\n",
    "print(' ---- '.join([principio_ativo, concentracao, forma_farmaceutica, quantidade]))"
   ]
  },
  {
   "cell_type": "markdown",
   "metadata": {},
   "source": [
    "### Path"
   ]
  },
  {
   "cell_type": "code",
   "execution_count": 9,
   "metadata": {},
   "outputs": [],
   "source": [
    "data_path = '../datasets/medicamentos/augmented/'\n",
    "data_file = 'medicamentos_aumentado.csv'"
   ]
  },
  {
   "cell_type": "markdown",
   "metadata": {},
   "source": [
    "## Parse"
   ]
  },
  {
   "cell_type": "markdown",
   "metadata": {},
   "source": [
    "### Removendo \";\" que não representa o separador do CSV"
   ]
  },
  {
   "cell_type": "code",
   "execution_count": 10,
   "metadata": {},
   "outputs": [],
   "source": [
    "def custom_replace(desc):\n",
    "    start = desc.find(';') + 1\n",
    "    end = desc.rfind(';')\n",
    "    return desc[:start] + desc[start:end].replace(';', ',') + desc[end:]\n",
    "\n",
    "src = '{}{}'.format(data_path, data_file)\n",
    "target = '{}{}_mod.csv'.format(data_path, data_file[:-4])\n",
    "\n",
    "buff = 300\n",
    "content = ''\n",
    "\n",
    "with open(src, 'r') as fs:\n",
    "    with open(target, 'w') as ft:\n",
    "        ft.write(fs.readline())  # header\n",
    "        lines = fs.readlines(buff)\n",
    "        while lines:\n",
    "            for line in lines:\n",
    "                content += custom_replace(line)\n",
    "            ft.write(content)\n",
    "            content = ''\n",
    "            lines = fs.readlines(buff)"
   ]
  },
  {
   "cell_type": "markdown",
   "metadata": {},
   "source": [
    "## Pré-processamento"
   ]
  },
  {
   "cell_type": "markdown",
   "metadata": {},
   "source": [
    "#### Loading"
   ]
  },
  {
   "cell_type": "code",
   "execution_count": 11,
   "metadata": {
    "scrolled": true
   },
   "outputs": [
    {
     "data": {
      "text/plain": [
       "(340946, 3)"
      ]
     },
     "execution_count": 11,
     "metadata": {},
     "output_type": "execute_result"
    }
   ],
   "source": [
    "# header => ['cod', 'descricao', 'ean']\n",
    "data_file = 'medicamentos_aumentado_mod.csv'\n",
    "src = '{}{}'.format(data_path, data_file)\n",
    "\n",
    "df = pd.read_csv(src, dtype={0:int, 1:str, 2:str}, sep=';')\n",
    "df.shape"
   ]
  },
  {
   "cell_type": "markdown",
   "metadata": {},
   "source": [
    "#### Removendo substrings com base nas palavras da descrição original\n",
    "\n",
    "#### Removendo registros com base nos termos principais"
   ]
  },
  {
   "cell_type": "code",
   "execution_count": 12,
   "metadata": {},
   "outputs": [],
   "source": [
    "idxs = list()\n",
    "removed = list()\n",
    "\n",
    "# iterate over dataframe\n",
    "for index, row in df.iterrows():\n",
    "    if row['cod'] == 1:\n",
    "        original_words = get_words(row['descricao'])  # get non stopwords\n",
    "        _, conc, _, qtd = xtc.extract(row['descricao'])  # get principal terms\n",
    "        conc, qtd = remove_blank([conc, qtd])\n",
    "        master_idx = index\n",
    "        continue\n",
    "        \n",
    "    new_desc = clean_desc(original_words, row['descricao'])  # remove irrelevant substrings\n",
    "    if not new_desc:\n",
    "        idxs.append(index)  # storage index for future drop\n",
    "        removed.append([master_idx, index])\n",
    "        continue\n",
    "    \n",
    "    _, new_conc, _, new_qtd = xtc.extract(new_desc)  # get principal terms\n",
    "    new_conc, new_qtd = remove_blank([new_conc, new_qtd])\n",
    "    \n",
    "    if conc == new_conc and qtd == new_qtd:\n",
    "        df.at[index,'descricao'] = new_desc  # replace descricao with cleaned new_desc\n",
    "    else:\n",
    "        idxs.append(index)  # storage index for future drop\n",
    "        removed.append([master_idx, index])"
   ]
  },
  {
   "cell_type": "markdown",
   "metadata": {},
   "source": [
    "### Removed"
   ]
  },
  {
   "cell_type": "code",
   "execution_count": 13,
   "metadata": {},
   "outputs": [
    {
     "data": {
      "text/html": [
       "<div>\n",
       "<style scoped>\n",
       "    .dataframe tbody tr th:only-of-type {\n",
       "        vertical-align: middle;\n",
       "    }\n",
       "\n",
       "    .dataframe tbody tr th {\n",
       "        vertical-align: top;\n",
       "    }\n",
       "\n",
       "    .dataframe thead th {\n",
       "        text-align: right;\n",
       "    }\n",
       "</style>\n",
       "<table border=\"1\" class=\"dataframe\">\n",
       "  <thead>\n",
       "    <tr style=\"text-align: right;\">\n",
       "      <th></th>\n",
       "      <th>master_idx</th>\n",
       "      <th>removed_idx</th>\n",
       "    </tr>\n",
       "  </thead>\n",
       "  <tbody>\n",
       "    <tr>\n",
       "      <th>0</th>\n",
       "      <td>0</td>\n",
       "      <td>1</td>\n",
       "    </tr>\n",
       "    <tr>\n",
       "      <th>1</th>\n",
       "      <td>0</td>\n",
       "      <td>3</td>\n",
       "    </tr>\n",
       "    <tr>\n",
       "      <th>2</th>\n",
       "      <td>0</td>\n",
       "      <td>4</td>\n",
       "    </tr>\n",
       "    <tr>\n",
       "      <th>3</th>\n",
       "      <td>28</td>\n",
       "      <td>29</td>\n",
       "    </tr>\n",
       "    <tr>\n",
       "      <th>4</th>\n",
       "      <td>28</td>\n",
       "      <td>30</td>\n",
       "    </tr>\n",
       "  </tbody>\n",
       "</table>\n",
       "</div>"
      ],
      "text/plain": [
       "   master_idx  removed_idx\n",
       "0           0            1\n",
       "1           0            3\n",
       "2           0            4\n",
       "3          28           29\n",
       "4          28           30"
      ]
     },
     "execution_count": 13,
     "metadata": {},
     "output_type": "execute_result"
    }
   ],
   "source": [
    "df_removed = pd.DataFrame(removed, columns=['master_idx', 'removed_idx'])\n",
    "df_removed.head()"
   ]
  },
  {
   "cell_type": "code",
   "execution_count": 14,
   "metadata": {},
   "outputs": [
    {
     "data": {
      "text/html": [
       "<div>\n",
       "<style scoped>\n",
       "    .dataframe tbody tr th:only-of-type {\n",
       "        vertical-align: middle;\n",
       "    }\n",
       "\n",
       "    .dataframe tbody tr th {\n",
       "        vertical-align: top;\n",
       "    }\n",
       "\n",
       "    .dataframe thead th {\n",
       "        text-align: right;\n",
       "    }\n",
       "</style>\n",
       "<table border=\"1\" class=\"dataframe\">\n",
       "  <thead>\n",
       "    <tr style=\"text-align: right;\">\n",
       "      <th></th>\n",
       "      <th>master_idx</th>\n",
       "      <th>removed_idx</th>\n",
       "    </tr>\n",
       "  </thead>\n",
       "  <tbody>\n",
       "    <tr>\n",
       "      <th>0</th>\n",
       "      <td>0</td>\n",
       "      <td>[1, 3, 4]</td>\n",
       "    </tr>\n",
       "    <tr>\n",
       "      <th>1</th>\n",
       "      <td>28</td>\n",
       "      <td>[29, 30, 31]</td>\n",
       "    </tr>\n",
       "    <tr>\n",
       "      <th>2</th>\n",
       "      <td>32</td>\n",
       "      <td>[33, 34, 35, 36, 37, 38]</td>\n",
       "    </tr>\n",
       "    <tr>\n",
       "      <th>3</th>\n",
       "      <td>39</td>\n",
       "      <td>[40, 41, 42, 43, 44, 45, 46, 47, 48, 49]</td>\n",
       "    </tr>\n",
       "    <tr>\n",
       "      <th>4</th>\n",
       "      <td>59</td>\n",
       "      <td>[60, 62, 63, 64, 65, 66]</td>\n",
       "    </tr>\n",
       "  </tbody>\n",
       "</table>\n",
       "</div>"
      ],
      "text/plain": [
       "   master_idx                               removed_idx\n",
       "0           0                                 [1, 3, 4]\n",
       "1          28                              [29, 30, 31]\n",
       "2          32                  [33, 34, 35, 36, 37, 38]\n",
       "3          39  [40, 41, 42, 43, 44, 45, 46, 47, 48, 49]\n",
       "4          59                  [60, 62, 63, 64, 65, 66]"
      ]
     },
     "execution_count": 14,
     "metadata": {},
     "output_type": "execute_result"
    }
   ],
   "source": [
    "df_grouped = df_removed.groupby('master_idx')['removed_idx'].apply(list).reset_index()\n",
    "df_grouped.head()"
   ]
  },
  {
   "cell_type": "code",
   "execution_count": 15,
   "metadata": {},
   "outputs": [
    {
     "name": "stderr",
     "output_type": "stream",
     "text": [
      "/tmp/ipykernel_31570/2299195586.py:1: FutureWarning: Passing a negative integer is deprecated in version 1.0 and will not be supported in future version. Instead, use None to not limit the column width.\n",
      "  pd.set_option('display.max_colwidth', -1)\n"
     ]
    },
    {
     "data": {
      "text/html": [
       "<div>\n",
       "<style scoped>\n",
       "    .dataframe tbody tr th:only-of-type {\n",
       "        vertical-align: middle;\n",
       "    }\n",
       "\n",
       "    .dataframe tbody tr th {\n",
       "        vertical-align: top;\n",
       "    }\n",
       "\n",
       "    .dataframe thead th {\n",
       "        text-align: right;\n",
       "    }\n",
       "</style>\n",
       "<table border=\"1\" class=\"dataframe\">\n",
       "  <thead>\n",
       "    <tr style=\"text-align: right;\">\n",
       "      <th></th>\n",
       "      <th>cod</th>\n",
       "      <th>descricao</th>\n",
       "    </tr>\n",
       "  </thead>\n",
       "  <tbody>\n",
       "    <tr>\n",
       "      <th>31969</th>\n",
       "      <td>1</td>\n",
       "      <td>ISOSSORBIDA 5MG - COMPLT : 0L2883 VL: 31-03-2020</td>\n",
       "    </tr>\n",
       "    <tr>\n",
       "      <th>31970</th>\n",
       "      <td>3</td>\n",
       "      <td>ISORDIL SL 5MG CAIXA COM 30 COMPRIMIDOS SUBLINGUAIS | FARMÁCIA</td>\n",
       "    </tr>\n",
       "    <tr>\n",
       "      <th>31971</th>\n",
       "      <td>3</td>\n",
       "      <td>ISORDIL SUBLINGUAL 5MG 30 COMPRIMIDOS - ULTRAFARMA</td>\n",
       "    </tr>\n",
       "    <tr>\n",
       "      <th>31972</th>\n",
       "      <td>3</td>\n",
       "      <td>ISOSSORBIDA 5MG C/30 COMPRIMIDOS (ISORDIL) - EMS | HOSPITALAR</td>\n",
       "    </tr>\n",
       "    <tr>\n",
       "      <th>31973</th>\n",
       "      <td>3</td>\n",
       "      <td>MONOCORDIL 5MG 30 CP SUBLING - PANVEL FARMÁCIAS</td>\n",
       "    </tr>\n",
       "  </tbody>\n",
       "</table>\n",
       "</div>"
      ],
      "text/plain": [
       "       cod                                                       descricao\n",
       "31969  1    ISOSSORBIDA 5MG - COMPLT : 0L2883 VL: 31-03-2020              \n",
       "31970  3    ISORDIL SL 5MG CAIXA COM 30 COMPRIMIDOS SUBLINGUAIS | FARMÁCIA\n",
       "31971  3    ISORDIL SUBLINGUAL 5MG 30 COMPRIMIDOS - ULTRAFARMA            \n",
       "31972  3    ISOSSORBIDA 5MG C/30 COMPRIMIDOS (ISORDIL) - EMS | HOSPITALAR \n",
       "31973  3    MONOCORDIL 5MG 30 CP SUBLING - PANVEL FARMÁCIAS               "
      ]
     },
     "execution_count": 15,
     "metadata": {},
     "output_type": "execute_result"
    }
   ],
   "source": [
    "pd.set_option('display.max_colwidth', -1)\n",
    "\n",
    "master, removed = df_grouped.loc[4000].values\n",
    "indexes = [master] + removed\n",
    "df.loc[indexes][['cod', 'descricao']]"
   ]
  },
  {
   "cell_type": "code",
   "execution_count": 16,
   "metadata": {},
   "outputs": [
    {
     "name": "stdout",
     "output_type": "stream",
     "text": [
      "['CLORIDRATO', 'MEMANTINA', '10MG', 'C0', 'C1']\n",
      "10MG None \n",
      "\n",
      "CLORIDRATO DE MEMANTINA 10MG 60 COMPRIMIDOS EUROFARMA\n",
      "10MG 60 \n",
      "\n"
     ]
    }
   ],
   "source": [
    "# DEBUG\n",
    "\n",
    "descricao = 'CLORIDRATO DE MEMANTINA 10MG C\\60 C1'\n",
    "derivado = 'CLORIDRATO DE MEMANTINA 10MG 60 COMPRIMIDOS EUROFARMA | DROGA'\n",
    "\n",
    "original_words = get_words(descricao)  # get non stopwords\n",
    "_, conc, _, qtd = xtc.extract(descricao)  # get principal terms\n",
    "conc, qtd = remove_blank([conc, qtd])\n",
    "print(original_words)\n",
    "print(conc, qtd, '\\n')\n",
    "\n",
    "new_desc = clean_desc(original_words, derivado)  # remove irrelevant substrings\n",
    "_, new_conc, _, new_qtd = xtc.extract(new_desc)  # get principal terms\n",
    "new_conc, new_qtd = remove_blank([new_conc, new_qtd])\n",
    "print(new_desc)\n",
    "print(new_conc, new_qtd, '\\n')\n",
    "    \n",
    "if conc == new_conc and qtd == new_qtd:\n",
    "    print('igual')"
   ]
  },
  {
   "cell_type": "markdown",
   "metadata": {},
   "source": [
    "### Removing"
   ]
  },
  {
   "cell_type": "code",
   "execution_count": 17,
   "metadata": {},
   "outputs": [
    {
     "data": {
      "text/plain": [
       "(124210, 3)"
      ]
     },
     "execution_count": 17,
     "metadata": {},
     "output_type": "execute_result"
    }
   ],
   "source": [
    "df.drop(idxs, inplace=True)\n",
    "df.dropna(inplace=True)\n",
    "df.drop_duplicates(inplace=True)\n",
    "df.shape"
   ]
  },
  {
   "cell_type": "markdown",
   "metadata": {},
   "source": [
    "#### Removendo registros  com os termos\n",
    "* BULA\n",
    "* PREÇO\n",
    "* BARATO"
   ]
  },
  {
   "cell_type": "code",
   "execution_count": 18,
   "metadata": {},
   "outputs": [
    {
     "data": {
      "text/plain": [
       "(120233, 3)"
      ]
     },
     "execution_count": 18,
     "metadata": {},
     "output_type": "execute_result"
    }
   ],
   "source": [
    "cond1 = df['cod'] == 1\n",
    "# or (\n",
    "cond2 = df['cod'] == 3\n",
    "# and\n",
    "cond3 = ~df['descricao'].str.contains('BULA|PREÇO|BARATO', regex=True)\n",
    "# )\n",
    "\n",
    "df = df[cond1 | (cond2 & cond3)]\n",
    "df.shape"
   ]
  },
  {
   "cell_type": "markdown",
   "metadata": {},
   "source": [
    "#### Removendo os termos <font color='red'>(devem ser removidos nesta ordem)</font>\n",
    "* EM MERCADO LIVRE BRASIL\n",
    "* EM MERCADO LIVRE\n",
    "* NO MERCADO LIVRE BRASIL\n",
    "* NO MERCADO LIVRE\n",
    "* COMPRAR EM ILHA DENTAL\n",
    "* COMPRAR EM AGROFORTE\n",
    "* COMPRAR EM FARMA PRATA\n",
    "* ONDE COMPRAR (apenas no início do registro)\n",
    "* COMPRAR\n",
    "* ENCONTRE (apenas no início do registro)\n",
    "\n",
    "#### Após as remoções acima, remover os registros com os termos\n",
    "* ENCONTRE"
   ]
  },
  {
   "cell_type": "code",
   "execution_count": 19,
   "metadata": {},
   "outputs": [],
   "source": [
    "pattern1 = r'(?i)(em|no)?\\s+mercado\\s+livre\\s*(brasil)?'\n",
    "pattern2 = r'(?i)comprar em (ilha dental|agroforte|farma prata)'\n",
    "pattern3 = r'(?i)(onde)?\\s*comprar'\n",
    "pattern4 = r'(?i)^encontre'\n",
    "\n",
    "replaces = {pattern1: '', \n",
    "            pattern2: '', \n",
    "            pattern3: '', \n",
    "            pattern4: '',}\n",
    "\n",
    "df.replace(replaces, regex=True, inplace=True)"
   ]
  },
  {
   "cell_type": "code",
   "execution_count": 20,
   "metadata": {},
   "outputs": [
    {
     "data": {
      "text/plain": [
       "(120224, 3)"
      ]
     },
     "execution_count": 20,
     "metadata": {},
     "output_type": "execute_result"
    }
   ],
   "source": [
    "cond1 = df['cod'] == 1\n",
    "cond2 = ~df['descricao'].str.contains('ENCONTRE')\n",
    "df = df[cond1 | cond2]\n",
    "df.shape"
   ]
  },
  {
   "cell_type": "code",
   "execution_count": 21,
   "metadata": {},
   "outputs": [
    {
     "data": {
      "text/html": [
       "<div>\n",
       "<style scoped>\n",
       "    .dataframe tbody tr th:only-of-type {\n",
       "        vertical-align: middle;\n",
       "    }\n",
       "\n",
       "    .dataframe tbody tr th {\n",
       "        vertical-align: top;\n",
       "    }\n",
       "\n",
       "    .dataframe thead th {\n",
       "        text-align: right;\n",
       "    }\n",
       "</style>\n",
       "<table border=\"1\" class=\"dataframe\">\n",
       "  <thead>\n",
       "    <tr style=\"text-align: right;\">\n",
       "      <th></th>\n",
       "      <th>cod</th>\n",
       "      <th>descricao</th>\n",
       "      <th>ean</th>\n",
       "    </tr>\n",
       "  </thead>\n",
       "  <tbody>\n",
       "  </tbody>\n",
       "</table>\n",
       "</div>"
      ],
      "text/plain": [
       "Empty DataFrame\n",
       "Columns: [cod, descricao, ean]\n",
       "Index: []"
      ]
     },
     "execution_count": 21,
     "metadata": {},
     "output_type": "execute_result"
    }
   ],
   "source": [
    "pattern = r'(?i)mercado livre|comprar|encontre'\n",
    "df[df['descricao'].str.contains(pattern)]"
   ]
  },
  {
   "cell_type": "code",
   "execution_count": 22,
   "metadata": {},
   "outputs": [
    {
     "data": {
      "text/plain": [
       "(1399, 3)"
      ]
     },
     "execution_count": 22,
     "metadata": {},
     "output_type": "execute_result"
    }
   ],
   "source": [
    "pattern = r'(?i)oferta'\n",
    "df[df['descricao'].str.contains(pattern)].shape"
   ]
  },
  {
   "cell_type": "code",
   "execution_count": 23,
   "metadata": {},
   "outputs": [
    {
     "data": {
      "text/html": [
       "<div>\n",
       "<style scoped>\n",
       "    .dataframe tbody tr th:only-of-type {\n",
       "        vertical-align: middle;\n",
       "    }\n",
       "\n",
       "    .dataframe tbody tr th {\n",
       "        vertical-align: top;\n",
       "    }\n",
       "\n",
       "    .dataframe thead th {\n",
       "        text-align: right;\n",
       "    }\n",
       "</style>\n",
       "<table border=\"1\" class=\"dataframe\">\n",
       "  <thead>\n",
       "    <tr style=\"text-align: right;\">\n",
       "      <th></th>\n",
       "      <th>cod</th>\n",
       "      <th>descricao</th>\n",
       "      <th>ean</th>\n",
       "    </tr>\n",
       "  </thead>\n",
       "  <tbody>\n",
       "    <tr>\n",
       "      <th>0</th>\n",
       "      <td>1</td>\n",
       "      <td>GEL P/ ECG 100GR</td>\n",
       "      <td>7898107240268</td>\n",
       "    </tr>\n",
       "    <tr>\n",
       "      <th>2</th>\n",
       "      <td>3</td>\n",
       "      <td>GEL ECG (ELETROCARDIOGRAMA) FRASCO 100G</td>\n",
       "      <td>7898107240268</td>\n",
       "    </tr>\n",
       "    <tr>\n",
       "      <th>5</th>\n",
       "      <td>3</td>\n",
       "      <td>GEL PARA ECG AZUL 100 GRAMAS CARBOGEL GEL CONDUTOR</td>\n",
       "      <td>7898107240268</td>\n",
       "    </tr>\n",
       "    <tr>\n",
       "      <th>6</th>\n",
       "      <td>3</td>\n",
       "      <td>GEL PARA ECG FRASCO 100GR GEL ECG CARBOGEL</td>\n",
       "      <td>7898107240268</td>\n",
       "    </tr>\n",
       "    <tr>\n",
       "      <th>7</th>\n",
       "      <td>3</td>\n",
       "      <td>GEL PARA ELETROCARDIOGRAMA (ECG) 100G</td>\n",
       "      <td>7898107240268</td>\n",
       "    </tr>\n",
       "  </tbody>\n",
       "</table>\n",
       "</div>"
      ],
      "text/plain": [
       "   cod                                           descricao            ean\n",
       "0  1    GEL P/ ECG 100GR                                    7898107240268\n",
       "2  3    GEL ECG (ELETROCARDIOGRAMA) FRASCO 100G             7898107240268\n",
       "5  3    GEL PARA ECG AZUL 100 GRAMAS CARBOGEL GEL CONDUTOR  7898107240268\n",
       "6  3    GEL PARA ECG FRASCO 100GR GEL ECG CARBOGEL          7898107240268\n",
       "7  3    GEL PARA ELETROCARDIOGRAMA (ECG) 100G               7898107240268"
      ]
     },
     "execution_count": 23,
     "metadata": {},
     "output_type": "execute_result"
    }
   ],
   "source": [
    "df.head()"
   ]
  },
  {
   "cell_type": "code",
   "execution_count": 24,
   "metadata": {},
   "outputs": [],
   "source": [
    "# after removing, strip again\n",
    "df['descricao'] = df['descricao'].str.strip()"
   ]
  },
  {
   "cell_type": "code",
   "execution_count": 25,
   "metadata": {},
   "outputs": [
    {
     "name": "stdout",
     "output_type": "stream",
     "text": [
      "\n",
      "GARDENAL 50MG C/20CP##(6928)\n",
      "\tGARDENAL 50MG, CAIXA COM 20 COMPRIMIDOS\n",
      "\tGARDENAL 50MG 20 COMPRIMIDOS (C1)\n",
      "\tGARDENAL 50MG 20 COMPRIMIDOS SANOFI AVENTIS\n",
      "\tGARDENAL 50MG C/ 20 COMPRIMIDO\n",
      "\tGARDENAL 50MG 20CP\n",
      "\n",
      "CLOR DE NORTRIPTILINA 25MG C/30CP (04775)\n",
      "\n",
      "ESOMEPRAZOL 40MG C/28CP (15049)\n",
      "\tESOMEPRAZOL 40MG 28 COMPRIMIDOS\n",
      "\tESOMEPRAZOL 40MG 28 CP EMS GENÉRICO\n",
      "\n",
      "ETNA 2.5MG C/20CP (2607)\n",
      "\n",
      "TARTAR DE METOPROLOL 100MG C/30CP (01818)\n",
      "\tSUCCINATO DE METOPROLOL ASTRAZENECA 100MG 30 COMPRIMIDOS\n",
      "\n",
      "OXCARBAZEPINA 600MG C/30CP(05367)\n",
      "\tOXCARBAZEPINA 600MG COM 30 COMPRIMIDOS GENÉRICO\n",
      "\tOXCARBAZEPINA 600MG 30 COMPRIMIDOS MEDLEY\n",
      "\tOXCARBAZEPINA 600MG 30 COMPRIMIDOS REVESTIDOS MEDLEY\n",
      "\tOXCARBAZEPINA 600MG 30 CP (C1)\n",
      "\tOXCARBAZEPINA RANBAXY 600MG, CAIXA COM 30 COMPRIMIDOS\n",
      "\n",
      "OXCARBAZEPINA 300MG C/30CP(4132)\n"
     ]
    }
   ],
   "source": [
    "start = 5056\n",
    "end = start+20\n",
    "cod = df['cod'].tolist()[start:end]\n",
    "desc = df['descricao'].tolist()[start:end]\n",
    "lista = list(zip(cod,desc))\n",
    "for cod, desc in lista:\n",
    "    if cod == 3:\n",
    "        tab = '\\t'\n",
    "        br = ''\n",
    "    else:\n",
    "        tab = ''\n",
    "        br = '\\n'\n",
    "        original_words = [w for w in desc if len(w) > 2]\n",
    "    print('{}{}{}'.format(br,tab,desc))"
   ]
  },
  {
   "cell_type": "markdown",
   "metadata": {},
   "source": [
    "### Gravando em arquivo"
   ]
  },
  {
   "cell_type": "code",
   "execution_count": 26,
   "metadata": {},
   "outputs": [],
   "source": [
    "data_file = 'medicamentos_aumentado_preproc.csv'\n",
    "df.to_csv('{}{}'.format(data_path, data_file),\n",
    "          sep=';',\n",
    "          header=df.columns,\n",
    "          index=False,\n",
    "          encoding='utf-8')"
   ]
  }
 ],
 "metadata": {
  "kernelspec": {
   "display_name": "Python 3",
   "language": "python",
   "name": "python3"
  },
  "language_info": {
   "codemirror_mode": {
    "name": "ipython",
    "version": 3
   },
   "file_extension": ".py",
   "mimetype": "text/x-python",
   "name": "python",
   "nbconvert_exporter": "python",
   "pygments_lexer": "ipython3",
   "version": "3.9.12"
  }
 },
 "nbformat": 4,
 "nbformat_minor": 2
}

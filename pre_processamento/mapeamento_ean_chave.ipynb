{
 "cells": [
  {
   "cell_type": "code",
   "execution_count": 1,
   "metadata": {},
   "outputs": [],
   "source": [
    "import pandas as pd"
   ]
  },
  {
   "cell_type": "code",
   "execution_count": 2,
   "metadata": {},
   "outputs": [
    {
     "name": "stdout",
     "output_type": "stream",
     "text": [
      "(7153, 2)\n"
     ]
    },
    {
     "data": {
      "text/html": [
       "<div>\n",
       "<style scoped>\n",
       "    .dataframe tbody tr th:only-of-type {\n",
       "        vertical-align: middle;\n",
       "    }\n",
       "\n",
       "    .dataframe tbody tr th {\n",
       "        vertical-align: top;\n",
       "    }\n",
       "\n",
       "    .dataframe thead th {\n",
       "        text-align: right;\n",
       "    }\n",
       "</style>\n",
       "<table border=\"1\" class=\"dataframe\">\n",
       "  <thead>\n",
       "    <tr style=\"text-align: right;\">\n",
       "      <th></th>\n",
       "      <th>chave</th>\n",
       "      <th>ean</th>\n",
       "    </tr>\n",
       "  </thead>\n",
       "  <tbody>\n",
       "    <tr>\n",
       "      <th>4</th>\n",
       "      <td>4</td>\n",
       "      <td>7896016807473</td>\n",
       "    </tr>\n",
       "    <tr>\n",
       "      <th>7</th>\n",
       "      <td>7</td>\n",
       "      <td>7896382701801</td>\n",
       "    </tr>\n",
       "    <tr>\n",
       "      <th>11</th>\n",
       "      <td>9</td>\n",
       "      <td>7891106001748</td>\n",
       "    </tr>\n",
       "    <tr>\n",
       "      <th>13</th>\n",
       "      <td>10</td>\n",
       "      <td>7894916503754</td>\n",
       "    </tr>\n",
       "    <tr>\n",
       "      <th>19</th>\n",
       "      <td>13</td>\n",
       "      <td>7896523209111</td>\n",
       "    </tr>\n",
       "  </tbody>\n",
       "</table>\n",
       "</div>"
      ],
      "text/plain": [
       "    chave            ean\n",
       "4       4  7896016807473\n",
       "7       7  7896382701801\n",
       "11      9  7891106001748\n",
       "13     10  7894916503754\n",
       "19     13  7896523209111"
      ]
     },
     "execution_count": 2,
     "metadata": {},
     "output_type": "execute_result"
    }
   ],
   "source": [
    "df_mapping = pd.read_pickle('../datasets/ean_key_mapping.pkl')\n",
    "print(df_mapping.shape)\n",
    "df_mapping.head()"
   ]
  },
  {
   "cell_type": "markdown",
   "metadata": {},
   "source": [
    "### Aplicando as substituições"
   ]
  },
  {
   "cell_type": "code",
   "execution_count": 3,
   "metadata": {},
   "outputs": [],
   "source": [
    "medicamentos_data_path = '../datasets/medicamentos/augmented/'\n",
    "anvisa_data_path = '../datasets/anvisa/augmented/'\n",
    "\n",
    "medicamentos_data_file = 'medicamentos_aumentado_preproc.csv'\n",
    "anvisa_pa_data_file = 'anvisa_principio_ativo_aumentado_preproc.csv'\n",
    "anvisa_prod_data_file = 'anvisa_produto_aumentado_preproc.csv'"
   ]
  },
  {
   "cell_type": "markdown",
   "metadata": {},
   "source": [
    "### MEDICAMENTOS"
   ]
  },
  {
   "cell_type": "code",
   "execution_count": 4,
   "metadata": {},
   "outputs": [
    {
     "name": "stdout",
     "output_type": "stream",
     "text": [
      "(120224, 3)\n"
     ]
    },
    {
     "data": {
      "text/html": [
       "<div>\n",
       "<style scoped>\n",
       "    .dataframe tbody tr th:only-of-type {\n",
       "        vertical-align: middle;\n",
       "    }\n",
       "\n",
       "    .dataframe tbody tr th {\n",
       "        vertical-align: top;\n",
       "    }\n",
       "\n",
       "    .dataframe thead th {\n",
       "        text-align: right;\n",
       "    }\n",
       "</style>\n",
       "<table border=\"1\" class=\"dataframe\">\n",
       "  <thead>\n",
       "    <tr style=\"text-align: right;\">\n",
       "      <th></th>\n",
       "      <th>cod</th>\n",
       "      <th>descricao</th>\n",
       "      <th>ean</th>\n",
       "    </tr>\n",
       "  </thead>\n",
       "  <tbody>\n",
       "    <tr>\n",
       "      <th>0</th>\n",
       "      <td>1</td>\n",
       "      <td>GEL P/ ECG 100GR</td>\n",
       "      <td>7898107240268</td>\n",
       "    </tr>\n",
       "    <tr>\n",
       "      <th>1</th>\n",
       "      <td>3</td>\n",
       "      <td>GEL ECG (ELETROCARDIOGRAMA) FRASCO 100G</td>\n",
       "      <td>7898107240268</td>\n",
       "    </tr>\n",
       "    <tr>\n",
       "      <th>2</th>\n",
       "      <td>3</td>\n",
       "      <td>GEL PARA ECG AZUL 100 GRAMAS CARBOGEL GEL COND...</td>\n",
       "      <td>7898107240268</td>\n",
       "    </tr>\n",
       "    <tr>\n",
       "      <th>3</th>\n",
       "      <td>3</td>\n",
       "      <td>GEL PARA ECG FRASCO 100GR GEL ECG CARBOGEL</td>\n",
       "      <td>7898107240268</td>\n",
       "    </tr>\n",
       "    <tr>\n",
       "      <th>4</th>\n",
       "      <td>3</td>\n",
       "      <td>GEL PARA ELETROCARDIOGRAMA (ECG) 100G</td>\n",
       "      <td>7898107240268</td>\n",
       "    </tr>\n",
       "  </tbody>\n",
       "</table>\n",
       "</div>"
      ],
      "text/plain": [
       "   cod                                          descricao            ean\n",
       "0    1                                   GEL P/ ECG 100GR  7898107240268\n",
       "1    3            GEL ECG (ELETROCARDIOGRAMA) FRASCO 100G  7898107240268\n",
       "2    3  GEL PARA ECG AZUL 100 GRAMAS CARBOGEL GEL COND...  7898107240268\n",
       "3    3         GEL PARA ECG FRASCO 100GR GEL ECG CARBOGEL  7898107240268\n",
       "4    3              GEL PARA ELETROCARDIOGRAMA (ECG) 100G  7898107240268"
      ]
     },
     "execution_count": 4,
     "metadata": {},
     "output_type": "execute_result"
    }
   ],
   "source": [
    "df = pd.read_csv('{}{}'.format(medicamentos_data_path, medicamentos_data_file), \n",
    "                 sep=';',\n",
    "                 dtype={0:int, 1:str, 2:str})\n",
    "print(df.shape)\n",
    "df.head()"
   ]
  },
  {
   "cell_type": "code",
   "execution_count": 5,
   "metadata": {},
   "outputs": [
    {
     "name": "stdout",
     "output_type": "stream",
     "text": [
      "(81353, 4)\n"
     ]
    },
    {
     "data": {
      "text/html": [
       "<div>\n",
       "<style scoped>\n",
       "    .dataframe tbody tr th:only-of-type {\n",
       "        vertical-align: middle;\n",
       "    }\n",
       "\n",
       "    .dataframe tbody tr th {\n",
       "        vertical-align: top;\n",
       "    }\n",
       "\n",
       "    .dataframe thead th {\n",
       "        text-align: right;\n",
       "    }\n",
       "</style>\n",
       "<table border=\"1\" class=\"dataframe\">\n",
       "  <thead>\n",
       "    <tr style=\"text-align: right;\">\n",
       "      <th></th>\n",
       "      <th>cod</th>\n",
       "      <th>descricao</th>\n",
       "      <th>ean</th>\n",
       "      <th>chave</th>\n",
       "    </tr>\n",
       "  </thead>\n",
       "  <tbody>\n",
       "    <tr>\n",
       "      <th>0</th>\n",
       "      <td>1</td>\n",
       "      <td>CIPROFIBRATO 100MG COMPR C30 MEDLEY</td>\n",
       "      <td>7891058001612</td>\n",
       "      <td>3298</td>\n",
       "    </tr>\n",
       "    <tr>\n",
       "      <th>1</th>\n",
       "      <td>3</td>\n",
       "      <td>CIPROFIBRATO 100MG C/30 MEDLEY CIPROFIBRATO 100MG</td>\n",
       "      <td>7891058001612</td>\n",
       "      <td>3298</td>\n",
       "    </tr>\n",
       "    <tr>\n",
       "      <th>2</th>\n",
       "      <td>1</td>\n",
       "      <td>CIPROFIBRATO 100MG C/30CP(1633)</td>\n",
       "      <td>7891058001612</td>\n",
       "      <td>3298</td>\n",
       "    </tr>\n",
       "    <tr>\n",
       "      <th>3</th>\n",
       "      <td>3</td>\n",
       "      <td>CIPROFIBRATO 100 MG COM 30 COMPRIMIDOS</td>\n",
       "      <td>7891058001612</td>\n",
       "      <td>3298</td>\n",
       "    </tr>\n",
       "    <tr>\n",
       "      <th>4</th>\n",
       "      <td>3</td>\n",
       "      <td>CIPROFIBRATO 100MG 30 COMPRIMIDOS</td>\n",
       "      <td>7891058001612</td>\n",
       "      <td>3298</td>\n",
       "    </tr>\n",
       "  </tbody>\n",
       "</table>\n",
       "</div>"
      ],
      "text/plain": [
       "   cod                                          descricao            ean  \\\n",
       "0    1                CIPROFIBRATO 100MG COMPR C30 MEDLEY  7891058001612   \n",
       "1    3  CIPROFIBRATO 100MG C/30 MEDLEY CIPROFIBRATO 100MG  7891058001612   \n",
       "2    1                    CIPROFIBRATO 100MG C/30CP(1633)  7891058001612   \n",
       "3    3             CIPROFIBRATO 100 MG COM 30 COMPRIMIDOS  7891058001612   \n",
       "4    3                  CIPROFIBRATO 100MG 30 COMPRIMIDOS  7891058001612   \n",
       "\n",
       "   chave  \n",
       "0   3298  \n",
       "1   3298  \n",
       "2   3298  \n",
       "3   3298  \n",
       "4   3298  "
      ]
     },
     "execution_count": 5,
     "metadata": {},
     "output_type": "execute_result"
    }
   ],
   "source": [
    "dfm = pd.merge(df, df_mapping, on='ean')\n",
    "print(dfm.shape)\n",
    "dfm.head()"
   ]
  },
  {
   "cell_type": "code",
   "execution_count": 6,
   "metadata": {},
   "outputs": [],
   "source": [
    "del dfm['ean']\n",
    "\n",
    "data_file = 'medicamentos_aumentado_preproc_mapped.csv'\n",
    "\n",
    "dfm.to_csv('{}{}'.format(medicamentos_data_path, data_file),\n",
    "           sep=';',\n",
    "           index=False,\n",
    "           encoding='utf-8')"
   ]
  },
  {
   "cell_type": "markdown",
   "metadata": {},
   "source": [
    "### ANVISA PRINCIPIO_ATIVO"
   ]
  },
  {
   "cell_type": "code",
   "execution_count": 7,
   "metadata": {},
   "outputs": [
    {
     "name": "stdout",
     "output_type": "stream",
     "text": [
      "(78012, 3)\n"
     ]
    },
    {
     "data": {
      "text/html": [
       "<div>\n",
       "<style scoped>\n",
       "    .dataframe tbody tr th:only-of-type {\n",
       "        vertical-align: middle;\n",
       "    }\n",
       "\n",
       "    .dataframe tbody tr th {\n",
       "        vertical-align: top;\n",
       "    }\n",
       "\n",
       "    .dataframe thead th {\n",
       "        text-align: right;\n",
       "    }\n",
       "</style>\n",
       "<table border=\"1\" class=\"dataframe\">\n",
       "  <thead>\n",
       "    <tr style=\"text-align: right;\">\n",
       "      <th></th>\n",
       "      <th>cod</th>\n",
       "      <th>descricao</th>\n",
       "      <th>ean</th>\n",
       "    </tr>\n",
       "  </thead>\n",
       "  <tbody>\n",
       "    <tr>\n",
       "      <th>0</th>\n",
       "      <td>2</td>\n",
       "      <td>ALENDRONATO DE SÓDIO TRI-HIDRATADO 10 MG COMP ...</td>\n",
       "      <td>7896226102634</td>\n",
       "    </tr>\n",
       "    <tr>\n",
       "      <th>1</th>\n",
       "      <td>2</td>\n",
       "      <td>ALENDRONATO DE SÓDIO TRI-HIDRATADO 10 MG COMP ...</td>\n",
       "      <td>7896226102627</td>\n",
       "    </tr>\n",
       "    <tr>\n",
       "      <th>2</th>\n",
       "      <td>2</td>\n",
       "      <td>AMBROXOL XPE ADU FR COM 100ML</td>\n",
       "      <td>7896226100449</td>\n",
       "    </tr>\n",
       "    <tr>\n",
       "      <th>3</th>\n",
       "      <td>4</td>\n",
       "      <td>AMBROXOL EXPECTUSS XAROPE ADULTO 100ML</td>\n",
       "      <td>7896226100449</td>\n",
       "    </tr>\n",
       "    <tr>\n",
       "      <th>4</th>\n",
       "      <td>2</td>\n",
       "      <td>GLIMEPIRIDA 02MG COMP REV CX COM 30</td>\n",
       "      <td>7896226101965</td>\n",
       "    </tr>\n",
       "  </tbody>\n",
       "</table>\n",
       "</div>"
      ],
      "text/plain": [
       "   cod                                          descricao            ean\n",
       "0    2  ALENDRONATO DE SÓDIO TRI-HIDRATADO 10 MG COMP ...  7896226102634\n",
       "1    2  ALENDRONATO DE SÓDIO TRI-HIDRATADO 10 MG COMP ...  7896226102627\n",
       "2    2                      AMBROXOL XPE ADU FR COM 100ML  7896226100449\n",
       "3    4             AMBROXOL EXPECTUSS XAROPE ADULTO 100ML  7896226100449\n",
       "4    2                GLIMEPIRIDA 02MG COMP REV CX COM 30  7896226101965"
      ]
     },
     "execution_count": 7,
     "metadata": {},
     "output_type": "execute_result"
    }
   ],
   "source": [
    "df = pd.read_csv('{}{}'.format(anvisa_data_path, anvisa_pa_data_file), \n",
    "                 sep=';',\n",
    "                 dtype={0:int, 1:str, 2:str})\n",
    "print(df.shape)\n",
    "df.head()"
   ]
  },
  {
   "cell_type": "code",
   "execution_count": 8,
   "metadata": {},
   "outputs": [
    {
     "name": "stdout",
     "output_type": "stream",
     "text": [
      "(13099, 4)\n"
     ]
    }
   ],
   "source": [
    "dfm = pd.merge(df, df_mapping, on='ean')\n",
    "print(dfm.shape)"
   ]
  },
  {
   "cell_type": "code",
   "execution_count": 9,
   "metadata": {},
   "outputs": [],
   "source": [
    "del dfm['ean']\n",
    "\n",
    "data_file = 'anvisa_principio_ativo_aumentado_preproc_mapped.csv'\n",
    "\n",
    "dfm.to_csv('{}{}'.format(anvisa_data_path, data_file),\n",
    "           sep=';',\n",
    "           index=False,\n",
    "           encoding='utf-8')"
   ]
  },
  {
   "cell_type": "markdown",
   "metadata": {},
   "source": [
    "### ANVISA PRODUTO"
   ]
  },
  {
   "cell_type": "code",
   "execution_count": 10,
   "metadata": {},
   "outputs": [
    {
     "name": "stdout",
     "output_type": "stream",
     "text": [
      "(85445, 3)\n"
     ]
    },
    {
     "data": {
      "text/html": [
       "<div>\n",
       "<style scoped>\n",
       "    .dataframe tbody tr th:only-of-type {\n",
       "        vertical-align: middle;\n",
       "    }\n",
       "\n",
       "    .dataframe tbody tr th {\n",
       "        vertical-align: top;\n",
       "    }\n",
       "\n",
       "    .dataframe thead th {\n",
       "        text-align: right;\n",
       "    }\n",
       "</style>\n",
       "<table border=\"1\" class=\"dataframe\">\n",
       "  <thead>\n",
       "    <tr style=\"text-align: right;\">\n",
       "      <th></th>\n",
       "      <th>cod</th>\n",
       "      <th>descricao</th>\n",
       "      <th>ean</th>\n",
       "    </tr>\n",
       "  </thead>\n",
       "  <tbody>\n",
       "    <tr>\n",
       "      <th>0</th>\n",
       "      <td>2</td>\n",
       "      <td>OSTENAN 10 MG COMP REV CX COM 30</td>\n",
       "      <td>7896226102634</td>\n",
       "    </tr>\n",
       "    <tr>\n",
       "      <th>1</th>\n",
       "      <td>2</td>\n",
       "      <td>OSTENAN 10 MG COMP REV CX COM 15</td>\n",
       "      <td>7896226102627</td>\n",
       "    </tr>\n",
       "    <tr>\n",
       "      <th>2</th>\n",
       "      <td>2</td>\n",
       "      <td>TEICOPLANINA 400 MG PÓ LIOFILIZADO SOL INJ CX ...</td>\n",
       "      <td>7730711011233</td>\n",
       "    </tr>\n",
       "    <tr>\n",
       "      <th>3</th>\n",
       "      <td>2</td>\n",
       "      <td>AMBROTEN XPE ADU FR COM 100ML</td>\n",
       "      <td>7896226100449</td>\n",
       "    </tr>\n",
       "    <tr>\n",
       "      <th>4</th>\n",
       "      <td>2</td>\n",
       "      <td>OXALIPLATINA 50 MG PÓ LIOFILIZADO FR/AMP X 500 MG</td>\n",
       "      <td>7730711011493</td>\n",
       "    </tr>\n",
       "  </tbody>\n",
       "</table>\n",
       "</div>"
      ],
      "text/plain": [
       "   cod                                          descricao            ean\n",
       "0    2                   OSTENAN 10 MG COMP REV CX COM 30  7896226102634\n",
       "1    2                   OSTENAN 10 MG COMP REV CX COM 15  7896226102627\n",
       "2    2  TEICOPLANINA 400 MG PÓ LIOFILIZADO SOL INJ CX ...  7730711011233\n",
       "3    2                      AMBROTEN XPE ADU FR COM 100ML  7896226100449\n",
       "4    2  OXALIPLATINA 50 MG PÓ LIOFILIZADO FR/AMP X 500 MG  7730711011493"
      ]
     },
     "execution_count": 10,
     "metadata": {},
     "output_type": "execute_result"
    }
   ],
   "source": [
    "df = pd.read_csv('{}{}'.format(anvisa_data_path, anvisa_prod_data_file), \n",
    "                 sep=';',\n",
    "                 dtype={0:int, 1:str, 2:str})\n",
    "print(df.shape)\n",
    "df.head()"
   ]
  },
  {
   "cell_type": "code",
   "execution_count": 11,
   "metadata": {},
   "outputs": [
    {
     "name": "stdout",
     "output_type": "stream",
     "text": [
      "(14218, 4)\n"
     ]
    }
   ],
   "source": [
    "dfm = pd.merge(df, df_mapping, on='ean')\n",
    "print(dfm.shape)"
   ]
  },
  {
   "cell_type": "code",
   "execution_count": 12,
   "metadata": {},
   "outputs": [],
   "source": [
    "del dfm['ean']\n",
    "\n",
    "data_file = 'anvisa_produto_aumentado_preproc_mapped.csv'\n",
    "\n",
    "dfm.to_csv('{}{}'.format(anvisa_data_path, data_file),\n",
    "           sep=';',\n",
    "           index=False,\n",
    "           encoding='utf-8')"
   ]
  }
 ],
 "metadata": {
  "kernelspec": {
   "display_name": "Python 3",
   "language": "python",
   "name": "python3"
  },
  "language_info": {
   "codemirror_mode": {
    "name": "ipython",
    "version": 3
   },
   "file_extension": ".py",
   "mimetype": "text/x-python",
   "name": "python",
   "nbconvert_exporter": "python",
   "pygments_lexer": "ipython3",
   "version": "3.9.12"
  }
 },
 "nbformat": 4,
 "nbformat_minor": 2
}

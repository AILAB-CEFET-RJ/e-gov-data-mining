{
 "cells": [
  {
   "cell_type": "markdown",
   "metadata": {},
   "source": [
    "## Pré-processamento da base de dados ANVISA"
   ]
  },
  {
   "cell_type": "markdown",
   "metadata": {},
   "source": [
    "### Carregando a base de dados"
   ]
  },
  {
   "cell_type": "code",
   "execution_count": 1,
   "metadata": {},
   "outputs": [],
   "source": [
    "import pandas as pd\n",
    "import numpy as np\n",
    "import re"
   ]
  },
  {
   "cell_type": "code",
   "execution_count": 2,
   "metadata": {},
   "outputs": [
    {
     "data": {
      "text/plain": [
       "(53437, 4)"
      ]
     },
     "execution_count": 2,
     "metadata": {},
     "output_type": "execute_result"
    }
   ],
   "source": [
    "data_path = '../datasets/anvisa/'\n",
    "data_file = 'TA_PRECOS_MEDICAMENTOS.csv'\n",
    "\n",
    "cols = [4,5,6,8]\n",
    "df = pd.read_csv('{}{}'.format(data_path, data_file), \n",
    "                 sep=';',\n",
    "                 usecols=cols,\n",
    "                 encoding='iso-8859-1')\n",
    "df.shape"
   ]
  },
  {
   "cell_type": "code",
   "execution_count": 3,
   "metadata": {},
   "outputs": [
    {
     "data": {
      "text/html": [
       "<div>\n",
       "<style scoped>\n",
       "    .dataframe tbody tr th:only-of-type {\n",
       "        vertical-align: middle;\n",
       "    }\n",
       "\n",
       "    .dataframe tbody tr th {\n",
       "        vertical-align: top;\n",
       "    }\n",
       "\n",
       "    .dataframe thead th {\n",
       "        text-align: right;\n",
       "    }\n",
       "</style>\n",
       "<table border=\"1\" class=\"dataframe\">\n",
       "  <thead>\n",
       "    <tr style=\"text-align: right;\">\n",
       "      <th></th>\n",
       "      <th>ean</th>\n",
       "      <th>produto</th>\n",
       "      <th>apresentacao</th>\n",
       "      <th>principio_ativo</th>\n",
       "    </tr>\n",
       "  </thead>\n",
       "  <tbody>\n",
       "    <tr>\n",
       "      <th>0</th>\n",
       "      <td>7896226102634</td>\n",
       "      <td>OSTENAN</td>\n",
       "      <td>10 MG COMP REV CX COM 30</td>\n",
       "      <td>ALENDRONATO DE SÓDIO TRI-HIDRATADO</td>\n",
       "    </tr>\n",
       "    <tr>\n",
       "      <th>1</th>\n",
       "      <td>7896226102627</td>\n",
       "      <td>OSTENAN</td>\n",
       "      <td>10 MG COMP REV CX COM 15</td>\n",
       "      <td>ALENDRONATO DE SÓDIO TRI-HIDRATADO</td>\n",
       "    </tr>\n",
       "    <tr>\n",
       "      <th>2</th>\n",
       "      <td>7730711011233</td>\n",
       "      <td>TEICOPLANINA</td>\n",
       "      <td>400 MG PÓ LIOFILIZADO SOL INJ CX C/ 1 FR/AMP X...</td>\n",
       "      <td>NC/NI</td>\n",
       "    </tr>\n",
       "    <tr>\n",
       "      <th>3</th>\n",
       "      <td>7896226100449</td>\n",
       "      <td>AMBROTEN</td>\n",
       "      <td>XPE ADU FR COM 100ML</td>\n",
       "      <td>ambroxol</td>\n",
       "    </tr>\n",
       "    <tr>\n",
       "      <th>4</th>\n",
       "      <td>7730711011493</td>\n",
       "      <td>OXALIPLATINA</td>\n",
       "      <td>50 MG PÓ LIOFILIZADO FR/AMP X 500 MG</td>\n",
       "      <td>NC/NI</td>\n",
       "    </tr>\n",
       "  </tbody>\n",
       "</table>\n",
       "</div>"
      ],
      "text/plain": [
       "             ean       produto  \\\n",
       "0  7896226102634       OSTENAN   \n",
       "1  7896226102627       OSTENAN   \n",
       "2  7730711011233  TEICOPLANINA   \n",
       "3  7896226100449      AMBROTEN   \n",
       "4  7730711011493  OXALIPLATINA   \n",
       "\n",
       "                                        apresentacao  \\\n",
       "0                           10 MG COMP REV CX COM 30   \n",
       "1                           10 MG COMP REV CX COM 15   \n",
       "2  400 MG PÓ LIOFILIZADO SOL INJ CX C/ 1 FR/AMP X...   \n",
       "3                               XPE ADU FR COM 100ML   \n",
       "4               50 MG PÓ LIOFILIZADO FR/AMP X 500 MG   \n",
       "\n",
       "                      principio_ativo  \n",
       "0  ALENDRONATO DE SÓDIO TRI-HIDRATADO  \n",
       "1  ALENDRONATO DE SÓDIO TRI-HIDRATADO  \n",
       "2                               NC/NI  \n",
       "3                            ambroxol  \n",
       "4                               NC/NI  "
      ]
     },
     "execution_count": 3,
     "metadata": {},
     "output_type": "execute_result"
    }
   ],
   "source": [
    "cols = ['ean', 'produto', 'apresentacao', 'principio_ativo']\n",
    "df.columns = cols\n",
    "df.head()"
   ]
  },
  {
   "cell_type": "markdown",
   "metadata": {},
   "source": [
    "### Removendo registros que não possuem o atributo EAN"
   ]
  },
  {
   "cell_type": "markdown",
   "metadata": {},
   "source": [
    "Se não possui EAN ou EAN é inválido, DROP"
   ]
  },
  {
   "cell_type": "code",
   "execution_count": 4,
   "metadata": {},
   "outputs": [
    {
     "data": {
      "text/plain": [
       "(52922, 4)"
      ]
     },
     "execution_count": 4,
     "metadata": {},
     "output_type": "execute_result"
    }
   ],
   "source": [
    "# Removendo rows com EAN nulo\n",
    "df.dropna(subset=['ean'], inplace=True)\n",
    "df.shape"
   ]
  },
  {
   "cell_type": "code",
   "execution_count": 5,
   "metadata": {},
   "outputs": [
    {
     "data": {
      "text/plain": [
       "(52643, 4)"
      ]
     },
     "execution_count": 5,
     "metadata": {},
     "output_type": "execute_result"
    }
   ],
   "source": [
    "# Removendo rows em que o EAN não é numérico\n",
    "df = df[df['ean'].str.isdigit()]\n",
    "df.shape"
   ]
  },
  {
   "cell_type": "code",
   "execution_count": 6,
   "metadata": {},
   "outputs": [
    {
     "data": {
      "text/plain": [
       "(51745, 4)"
      ]
     },
     "execution_count": 6,
     "metadata": {},
     "output_type": "execute_result"
    }
   ],
   "source": [
    "# Removendo rows com EANs inválidos (conforme regra do cálculo do dígito verificador)\n",
    "def is_ean_valid(row):\n",
    "    return not sum(int(d)*i for d,i in zip(row['ean'],[1,3]*7))%10\n",
    "\n",
    "indices = df.apply(is_ean_valid, axis=1)\n",
    "df = df[indices]\n",
    "df.shape"
   ]
  },
  {
   "cell_type": "markdown",
   "metadata": {},
   "source": [
    "### Removendo registros que não possuem o atributo apresentação"
   ]
  },
  {
   "cell_type": "code",
   "execution_count": 7,
   "metadata": {},
   "outputs": [
    {
     "data": {
      "text/plain": [
       "(51745, 4)"
      ]
     },
     "execution_count": 7,
     "metadata": {},
     "output_type": "execute_result"
    }
   ],
   "source": [
    "df.dropna(subset=['apresentacao'], inplace=True)\n",
    "df.shape"
   ]
  },
  {
   "cell_type": "code",
   "execution_count": 8,
   "metadata": {},
   "outputs": [
    {
     "data": {
      "text/html": [
       "<div>\n",
       "<style scoped>\n",
       "    .dataframe tbody tr th:only-of-type {\n",
       "        vertical-align: middle;\n",
       "    }\n",
       "\n",
       "    .dataframe tbody tr th {\n",
       "        vertical-align: top;\n",
       "    }\n",
       "\n",
       "    .dataframe thead th {\n",
       "        text-align: right;\n",
       "    }\n",
       "</style>\n",
       "<table border=\"1\" class=\"dataframe\">\n",
       "  <thead>\n",
       "    <tr style=\"text-align: right;\">\n",
       "      <th></th>\n",
       "      <th>ean</th>\n",
       "      <th>produto</th>\n",
       "      <th>apresentacao</th>\n",
       "      <th>principio_ativo</th>\n",
       "    </tr>\n",
       "  </thead>\n",
       "  <tbody>\n",
       "  </tbody>\n",
       "</table>\n",
       "</div>"
      ],
      "text/plain": [
       "Empty DataFrame\n",
       "Columns: [ean, produto, apresentacao, principio_ativo]\n",
       "Index: []"
      ]
     },
     "execution_count": 8,
     "metadata": {},
     "output_type": "execute_result"
    }
   ],
   "source": [
    "non_values = ['NC/NI', 'SI/NC']\n",
    "df[df['apresentacao'].isin(non_values)]"
   ]
  },
  {
   "cell_type": "markdown",
   "metadata": {},
   "source": [
    "### Removendo registros que não possuem os atributos produto e principio ativo (conectivo AND)"
   ]
  },
  {
   "cell_type": "markdown",
   "metadata": {},
   "source": [
    "Se não possui produto e principio ativo, DROP (se tiver pelo menos um dos dois não dropa)"
   ]
  },
  {
   "cell_type": "code",
   "execution_count": 9,
   "metadata": {},
   "outputs": [
    {
     "data": {
      "text/plain": [
       "(51745, 4)"
      ]
     },
     "execution_count": 9,
     "metadata": {},
     "output_type": "execute_result"
    }
   ],
   "source": [
    "df.dropna(subset=['produto', 'principio_ativo'], how='all', inplace=True)\n",
    "df.shape"
   ]
  },
  {
   "cell_type": "code",
   "execution_count": 10,
   "metadata": {},
   "outputs": [
    {
     "data": {
      "text/html": [
       "<div>\n",
       "<style scoped>\n",
       "    .dataframe tbody tr th:only-of-type {\n",
       "        vertical-align: middle;\n",
       "    }\n",
       "\n",
       "    .dataframe tbody tr th {\n",
       "        vertical-align: top;\n",
       "    }\n",
       "\n",
       "    .dataframe thead th {\n",
       "        text-align: right;\n",
       "    }\n",
       "</style>\n",
       "<table border=\"1\" class=\"dataframe\">\n",
       "  <thead>\n",
       "    <tr style=\"text-align: right;\">\n",
       "      <th></th>\n",
       "      <th>ean</th>\n",
       "      <th>produto</th>\n",
       "      <th>apresentacao</th>\n",
       "      <th>principio_ativo</th>\n",
       "    </tr>\n",
       "  </thead>\n",
       "  <tbody>\n",
       "  </tbody>\n",
       "</table>\n",
       "</div>"
      ],
      "text/plain": [
       "Empty DataFrame\n",
       "Columns: [ean, produto, apresentacao, principio_ativo]\n",
       "Index: []"
      ]
     },
     "execution_count": 10,
     "metadata": {},
     "output_type": "execute_result"
    }
   ],
   "source": [
    "df[df['produto'].isin(non_values) & df['principio_ativo'].isin(non_values)]"
   ]
  },
  {
   "cell_type": "markdown",
   "metadata": {},
   "source": [
    "### UPPER"
   ]
  },
  {
   "cell_type": "code",
   "execution_count": 11,
   "metadata": {},
   "outputs": [],
   "source": [
    "df['produto'] = df['produto'].str.upper()\n",
    "df['apresentacao'] = df['apresentacao'].str.upper()\n",
    "df['principio_ativo'] = df['principio_ativo'].str.upper()"
   ]
  },
  {
   "cell_type": "markdown",
   "metadata": {},
   "source": [
    "### Removendo duplicatas"
   ]
  },
  {
   "cell_type": "code",
   "execution_count": 12,
   "metadata": {},
   "outputs": [
    {
     "data": {
      "text/html": [
       "<div>\n",
       "<style scoped>\n",
       "    .dataframe tbody tr th:only-of-type {\n",
       "        vertical-align: middle;\n",
       "    }\n",
       "\n",
       "    .dataframe tbody tr th {\n",
       "        vertical-align: top;\n",
       "    }\n",
       "\n",
       "    .dataframe thead th {\n",
       "        text-align: right;\n",
       "    }\n",
       "</style>\n",
       "<table border=\"1\" class=\"dataframe\">\n",
       "  <thead>\n",
       "    <tr style=\"text-align: right;\">\n",
       "      <th></th>\n",
       "      <th>ean</th>\n",
       "      <th>produto</th>\n",
       "      <th>apresentacao</th>\n",
       "      <th>principio_ativo</th>\n",
       "    </tr>\n",
       "  </thead>\n",
       "  <tbody>\n",
       "    <tr>\n",
       "      <th>7460</th>\n",
       "      <td>7896255716765</td>\n",
       "      <td>RITMONORM</td>\n",
       "      <td>EV 3,5MG/ML SOL INJ CT 6 AMP VD AMB X 20ML</td>\n",
       "      <td>CLORIDRATO DE PROPAFENONA</td>\n",
       "    </tr>\n",
       "    <tr>\n",
       "      <th>7963</th>\n",
       "      <td>7896255701471</td>\n",
       "      <td>ATENOLOL</td>\n",
       "      <td>50 MG COM CT 2 BL AL PLAS INC X 14</td>\n",
       "      <td>ATENOLOL</td>\n",
       "    </tr>\n",
       "    <tr>\n",
       "      <th>7964</th>\n",
       "      <td>7896255701488</td>\n",
       "      <td>ATENOLOL</td>\n",
       "      <td>100 MG COM CT 2 BL AL PLAS INC X 14</td>\n",
       "      <td>ATENOLOL</td>\n",
       "    </tr>\n",
       "    <tr>\n",
       "      <th>9357</th>\n",
       "      <td>7896004700274</td>\n",
       "      <td>TENOXICAM</td>\n",
       "      <td>20 MG COM REV CT BL AL PLAS INC X 10</td>\n",
       "      <td>TENOXICAM</td>\n",
       "    </tr>\n",
       "    <tr>\n",
       "      <th>10210</th>\n",
       "      <td>7898919447695</td>\n",
       "      <td>GLICOSE MONOIDRATADA</td>\n",
       "      <td>100 MG/ML SOL INJ IV BOLS PP TRANS SIST FECH X...</td>\n",
       "      <td>GLICOSE MONOIDRATADA</td>\n",
       "    </tr>\n",
       "  </tbody>\n",
       "</table>\n",
       "</div>"
      ],
      "text/plain": [
       "                 ean               produto  \\\n",
       "7460   7896255716765             RITMONORM   \n",
       "7963   7896255701471              ATENOLOL   \n",
       "7964   7896255701488              ATENOLOL   \n",
       "9357   7896004700274             TENOXICAM   \n",
       "10210  7898919447695  GLICOSE MONOIDRATADA   \n",
       "\n",
       "                                            apresentacao  \\\n",
       "7460          EV 3,5MG/ML SOL INJ CT 6 AMP VD AMB X 20ML   \n",
       "7963                  50 MG COM CT 2 BL AL PLAS INC X 14   \n",
       "7964                 100 MG COM CT 2 BL AL PLAS INC X 14   \n",
       "9357                20 MG COM REV CT BL AL PLAS INC X 10   \n",
       "10210  100 MG/ML SOL INJ IV BOLS PP TRANS SIST FECH X...   \n",
       "\n",
       "                 principio_ativo  \n",
       "7460   CLORIDRATO DE PROPAFENONA  \n",
       "7963                    ATENOLOL  \n",
       "7964                    ATENOLOL  \n",
       "9357                   TENOXICAM  \n",
       "10210       GLICOSE MONOIDRATADA  "
      ]
     },
     "execution_count": 12,
     "metadata": {},
     "output_type": "execute_result"
    }
   ],
   "source": [
    "df[df.duplicated()].head()"
   ]
  },
  {
   "cell_type": "code",
   "execution_count": 13,
   "metadata": {},
   "outputs": [
    {
     "data": {
      "text/html": [
       "<div>\n",
       "<style scoped>\n",
       "    .dataframe tbody tr th:only-of-type {\n",
       "        vertical-align: middle;\n",
       "    }\n",
       "\n",
       "    .dataframe tbody tr th {\n",
       "        vertical-align: top;\n",
       "    }\n",
       "\n",
       "    .dataframe thead th {\n",
       "        text-align: right;\n",
       "    }\n",
       "</style>\n",
       "<table border=\"1\" class=\"dataframe\">\n",
       "  <thead>\n",
       "    <tr style=\"text-align: right;\">\n",
       "      <th></th>\n",
       "      <th>ean</th>\n",
       "      <th>produto</th>\n",
       "      <th>apresentacao</th>\n",
       "      <th>principio_ativo</th>\n",
       "    </tr>\n",
       "  </thead>\n",
       "  <tbody>\n",
       "    <tr>\n",
       "      <th>6838</th>\n",
       "      <td>7896255716765</td>\n",
       "      <td>RITMONORM</td>\n",
       "      <td>EV 3,5MG/ML SOL INJ CT 6 AMP VD AMB X 20ML</td>\n",
       "      <td>CLORIDRATO DE PROPAFENONA</td>\n",
       "    </tr>\n",
       "    <tr>\n",
       "      <th>7460</th>\n",
       "      <td>7896255716765</td>\n",
       "      <td>RITMONORM</td>\n",
       "      <td>EV 3,5MG/ML SOL INJ CT 6 AMP VD AMB X 20ML</td>\n",
       "      <td>CLORIDRATO DE PROPAFENONA</td>\n",
       "    </tr>\n",
       "  </tbody>\n",
       "</table>\n",
       "</div>"
      ],
      "text/plain": [
       "                ean    produto                                apresentacao  \\\n",
       "6838  7896255716765  RITMONORM  EV 3,5MG/ML SOL INJ CT 6 AMP VD AMB X 20ML   \n",
       "7460  7896255716765  RITMONORM  EV 3,5MG/ML SOL INJ CT 6 AMP VD AMB X 20ML   \n",
       "\n",
       "                principio_ativo  \n",
       "6838  CLORIDRATO DE PROPAFENONA  \n",
       "7460  CLORIDRATO DE PROPAFENONA  "
      ]
     },
     "execution_count": 13,
     "metadata": {},
     "output_type": "execute_result"
    }
   ],
   "source": [
    "df[df['apresentacao'] == 'EV 3,5MG/ML SOL INJ CT 6 AMP VD AMB X 20ML']"
   ]
  },
  {
   "cell_type": "code",
   "execution_count": 14,
   "metadata": {},
   "outputs": [
    {
     "data": {
      "text/plain": [
       "(50927, 4)"
      ]
     },
     "execution_count": 14,
     "metadata": {},
     "output_type": "execute_result"
    }
   ],
   "source": [
    "df.drop_duplicates(inplace=True)\n",
    "df.shape"
   ]
  },
  {
   "cell_type": "markdown",
   "metadata": {},
   "source": [
    "### Estatisticas"
   ]
  },
  {
   "cell_type": "code",
   "execution_count": 15,
   "metadata": {},
   "outputs": [
    {
     "data": {
      "text/plain": [
       "ean                50927\n",
       "produto            50927\n",
       "apresentacao       50927\n",
       "principio_ativo    50792\n",
       "dtype: int64"
      ]
     },
     "execution_count": 15,
     "metadata": {},
     "output_type": "execute_result"
    }
   ],
   "source": [
    "df.count()"
   ]
  },
  {
   "cell_type": "code",
   "execution_count": 16,
   "metadata": {},
   "outputs": [
    {
     "data": {
      "text/plain": [
       "(48728,)"
      ]
     },
     "execution_count": 16,
     "metadata": {},
     "output_type": "execute_result"
    }
   ],
   "source": [
    "df['ean'].unique().shape"
   ]
  },
  {
   "cell_type": "markdown",
   "metadata": {},
   "source": [
    "### Gravando em arquivo"
   ]
  },
  {
   "cell_type": "code",
   "execution_count": 17,
   "metadata": {},
   "outputs": [],
   "source": [
    "data_file = 'anvisa.csv'\n",
    "\n",
    "pd.DataFrame(df).to_csv('{}{}'.format(data_path, data_file), \n",
    "                        sep=';',\n",
    "                        index=False,\n",
    "                        encoding='utf-8')"
   ]
  }
 ],
 "metadata": {
  "kernelspec": {
   "display_name": "Python 3",
   "language": "python",
   "name": "python3"
  },
  "language_info": {
   "codemirror_mode": {
    "name": "ipython",
    "version": 3
   },
   "file_extension": ".py",
   "mimetype": "text/x-python",
   "name": "python",
   "nbconvert_exporter": "python",
   "pygments_lexer": "ipython3",
   "version": "3.9.7"
  }
 },
 "nbformat": 4,
 "nbformat_minor": 2
}

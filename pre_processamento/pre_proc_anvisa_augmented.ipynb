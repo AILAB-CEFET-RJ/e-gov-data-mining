{
 "cells": [
  {
   "cell_type": "code",
   "execution_count": 1,
   "metadata": {},
   "outputs": [],
   "source": [
    "import sys\n",
    "sys.path.append('..')"
   ]
  },
  {
   "cell_type": "markdown",
   "metadata": {},
   "source": [
    "## Exemplo de uso da lib Extractor"
   ]
  },
  {
   "cell_type": "code",
   "execution_count": 2,
   "metadata": {},
   "outputs": [
    {
     "data": {
      "text/plain": [
       "('OXALIPLATINA', '50 MG', 'AMP', '500 MG')"
      ]
     },
     "execution_count": 2,
     "metadata": {},
     "output_type": "execute_result"
    }
   ],
   "source": [
    "from libs.extractor import Extractor as xtc\n",
    "\n",
    "descricao = 'OXALIPLATINA 50 MG PÓ LIOFILIZADO FR/AMP X 500 MG'\n",
    "xtc.extract(descricao)"
   ]
  },
  {
   "cell_type": "markdown",
   "metadata": {},
   "source": [
    "## Config"
   ]
  },
  {
   "cell_type": "markdown",
   "metadata": {},
   "source": [
    "### Imports"
   ]
  },
  {
   "cell_type": "code",
   "execution_count": 3,
   "metadata": {},
   "outputs": [],
   "source": [
    "import pandas as pd\n",
    "import numpy as np\n",
    "import re\n",
    "import nltk\n",
    "#nltk.download('stopwords')\n",
    "#nltk.download('punkt')\n",
    "\n",
    "from nltk.tokenize import word_tokenize\n",
    "from nltk.corpus import stopwords\n",
    "from string import punctuation\n",
    "\n",
    "from libs.extractor import Extractor as xtc\n",
    "\n",
    "pd.set_option('display.max_colwidth', None)"
   ]
  },
  {
   "cell_type": "markdown",
   "metadata": {},
   "source": [
    "### Stopwords"
   ]
  },
  {
   "cell_type": "code",
   "execution_count": 4,
   "metadata": {},
   "outputs": [],
   "source": [
    "# loading new_stopwords\n",
    "with open('custom_stopwords.txt') as f:\n",
    "    data = f.read()\n",
    "new_stopwords = data.split()"
   ]
  },
  {
   "cell_type": "code",
   "execution_count": 5,
   "metadata": {},
   "outputs": [
    {
     "name": "stdout",
     "output_type": "stream",
     "text": [
      "236\n",
      "372\n"
     ]
    }
   ],
   "source": [
    "# updating stopwords with new_stopwords\n",
    "stopwords = set(stopwords.words('portuguese') + list(punctuation))\n",
    "print(len(stopwords))\n",
    "\n",
    "custom_stopwords = stopwords.copy()\n",
    "custom_stopwords.update(new_stopwords)\n",
    "print(len(custom_stopwords))"
   ]
  },
  {
   "cell_type": "markdown",
   "metadata": {},
   "source": [
    "### Functions"
   ]
  },
  {
   "cell_type": "code",
   "execution_count": 6,
   "metadata": {},
   "outputs": [],
   "source": [
    "def clean_desc(words, desc):\n",
    "    subs = [sub.strip() for sub in re.split('‹|–|::|-|\\|', desc)]  # split in substrings\n",
    "    new_desc = ''\n",
    "    \n",
    "    for sub in subs:\n",
    "        for word in words:\n",
    "            if word in sub.split():\n",
    "                new_desc += ' {}'.format(sub)\n",
    "                break\n",
    "                \n",
    "    return new_desc.strip()  # return without extra initial space\n",
    "\n",
    "\n",
    "def get_words(text):\n",
    "    return [w for w in word_tokenize(text) if w.lower() not in custom_stopwords]\n",
    "\n",
    "\n",
    "def remove_separator(terms):\n",
    "    return [re.sub('\\s|/', '', t) if t is not None else t for t in terms]"
   ]
  },
  {
   "cell_type": "code",
   "execution_count": 7,
   "metadata": {},
   "outputs": [
    {
     "name": "stdout",
     "output_type": "stream",
     "text": [
      "GLICOSE 5% CX C/40 FRASCOS X 250ML\n",
      "SORO DE GLICOSE 5%\n"
     ]
    }
   ],
   "source": [
    "# clean_desc Example\n",
    "desc = 'GLICOSE 5% CX C/40 FRASCOS X 250ML'\n",
    "deriv = 'SORO DE GLICOSE 5% - EUROFARMA | DENTAL CREMER PRODUTOS'\n",
    "\n",
    "print(desc)\n",
    "print(clean_desc(get_words(desc), deriv))"
   ]
  },
  {
   "cell_type": "code",
   "execution_count": 8,
   "metadata": {},
   "outputs": [
    {
     "name": "stdout",
     "output_type": "stream",
     "text": [
      "ESPIRONOLACTONA ---- 100MG ---- COM ---- 30\n"
     ]
    }
   ],
   "source": [
    "# Extractor example\n",
    "produto = 'ESPIRONOLACTONA 100MG CX C/30 CP'\n",
    "principio_ativo, concentracao, forma_farmaceutica, quantidade = xtc.extract(produto)\n",
    "\n",
    "print(' ---- '.join([principio_ativo, concentracao, forma_farmaceutica, quantidade]))"
   ]
  },
  {
   "cell_type": "markdown",
   "metadata": {},
   "source": [
    "### Path"
   ]
  },
  {
   "cell_type": "code",
   "execution_count": 9,
   "metadata": {},
   "outputs": [],
   "source": [
    "data_path = '../datasets/anvisa/augmented/'\n",
    "data_prod = 'anvisa_produto_aumentado.csv'\n",
    "data_pa = 'anvisa_principio_ativo_aumentado.csv'"
   ]
  },
  {
   "cell_type": "markdown",
   "metadata": {},
   "source": [
    "## Parse"
   ]
  },
  {
   "cell_type": "markdown",
   "metadata": {},
   "source": [
    "### Removendo \";\" que não representa o separador do CSV"
   ]
  },
  {
   "cell_type": "code",
   "execution_count": 10,
   "metadata": {},
   "outputs": [],
   "source": [
    "def custom_replace(desc):\n",
    "    start = desc.find(';') + 1\n",
    "    end = desc.rfind(';')\n",
    "    return desc[:start] + desc[start:end].replace(';', ',') + desc[end:]\n",
    "\n",
    "\n",
    "def fix_csv(src, target):\n",
    "    buff = 300\n",
    "    content = ''\n",
    "\n",
    "    with open(src, 'r') as fs:\n",
    "        with open(target, 'w') as ft:\n",
    "            ft.write(fs.readline())  # header\n",
    "            lines = fs.readlines(buff)\n",
    "            while lines:\n",
    "                for line in lines:\n",
    "                    content += custom_replace(line)\n",
    "                ft.write(content)\n",
    "                content = ''\n",
    "                lines = fs.readlines(buff)\n",
    "                \n",
    "\n",
    "# produto\n",
    "src_file = '{}{}'.format(data_path, data_prod)\n",
    "target_file = '{}{}_mod.csv'.format(data_path, data_prod[:-4])\n",
    "fix_csv(src_file, target_file)\n",
    "\n",
    "# principio_ativo\n",
    "src_file = '{}{}'.format(data_path, data_pa)\n",
    "target_file = '{}{}_mod.csv'.format(data_path, data_pa[:-4])\n",
    "fix_csv(src_file, target_file)"
   ]
  },
  {
   "cell_type": "markdown",
   "metadata": {},
   "source": [
    "## Pré-processamento PRODUTO"
   ]
  },
  {
   "cell_type": "markdown",
   "metadata": {},
   "source": [
    "### Loading"
   ]
  },
  {
   "cell_type": "code",
   "execution_count": 11,
   "metadata": {
    "scrolled": true
   },
   "outputs": [
    {
     "data": {
      "text/plain": [
       "(232770, 3)"
      ]
     },
     "execution_count": 11,
     "metadata": {},
     "output_type": "execute_result"
    }
   ],
   "source": [
    "# header => ['cod', 'descricao', 'ean']\n",
    "data_file = 'anvisa_produto_aumentado_mod.csv'\n",
    "src = '{}{}'.format(data_path, data_file)\n",
    "\n",
    "df = pd.read_csv(src, dtype={0:int, 1:str, 2:str}, sep=';')\n",
    "df.shape"
   ]
  },
  {
   "cell_type": "markdown",
   "metadata": {},
   "source": [
    "### Removendo substrings com base nas palavras da descrição original\n",
    "\n",
    "### Removendo registros com base nos termos principais"
   ]
  },
  {
   "cell_type": "code",
   "execution_count": 12,
   "metadata": {},
   "outputs": [],
   "source": [
    "idxs = list()\n",
    "removed = list()\n",
    "\n",
    "# iterate over dataframe\n",
    "for index, row in df.iterrows():\n",
    "    if row['cod'] == 2:\n",
    "        original_words = get_words(row['descricao'])  # get non stopwords\n",
    "        _, conc, _, qtd = xtc.extract(row['descricao'])  # get principal terms\n",
    "        conc, qtd = remove_separator([conc, qtd])\n",
    "        master_idx = index\n",
    "        continue\n",
    "        \n",
    "    new_desc = clean_desc(original_words, row['descricao'])  # remove irrelevant substrings\n",
    "    if not new_desc:\n",
    "        idxs.append(index)  # storage index for future drop\n",
    "        removed.append([master_idx, index])\n",
    "        continue\n",
    "    \n",
    "    _, new_conc, _, new_qtd = xtc.extract(new_desc)  # get principal terms\n",
    "    new_conc, new_qtd = remove_separator([new_conc, new_qtd])\n",
    "    \n",
    "    if conc == new_conc and qtd == new_qtd:\n",
    "        df.at[index,'descricao'] = new_desc  # replace descricao with cleaned new_desc\n",
    "    else:\n",
    "        idxs.append(index)  # storage index for future drop\n",
    "        removed.append([master_idx, index])"
   ]
  },
  {
   "cell_type": "markdown",
   "metadata": {},
   "source": [
    "### Removed"
   ]
  },
  {
   "cell_type": "code",
   "execution_count": 13,
   "metadata": {},
   "outputs": [
    {
     "data": {
      "text/html": [
       "<div>\n",
       "<style scoped>\n",
       "    .dataframe tbody tr th:only-of-type {\n",
       "        vertical-align: middle;\n",
       "    }\n",
       "\n",
       "    .dataframe tbody tr th {\n",
       "        vertical-align: top;\n",
       "    }\n",
       "\n",
       "    .dataframe thead th {\n",
       "        text-align: right;\n",
       "    }\n",
       "</style>\n",
       "<table border=\"1\" class=\"dataframe\">\n",
       "  <thead>\n",
       "    <tr style=\"text-align: right;\">\n",
       "      <th></th>\n",
       "      <th>master_idx</th>\n",
       "      <th>removed_idx</th>\n",
       "    </tr>\n",
       "  </thead>\n",
       "  <tbody>\n",
       "    <tr>\n",
       "      <th>0</th>\n",
       "      <td>0</td>\n",
       "      <td>1</td>\n",
       "    </tr>\n",
       "    <tr>\n",
       "      <th>1</th>\n",
       "      <td>0</td>\n",
       "      <td>2</td>\n",
       "    </tr>\n",
       "    <tr>\n",
       "      <th>2</th>\n",
       "      <td>0</td>\n",
       "      <td>3</td>\n",
       "    </tr>\n",
       "    <tr>\n",
       "      <th>3</th>\n",
       "      <td>0</td>\n",
       "      <td>4</td>\n",
       "    </tr>\n",
       "    <tr>\n",
       "      <th>4</th>\n",
       "      <td>0</td>\n",
       "      <td>5</td>\n",
       "    </tr>\n",
       "  </tbody>\n",
       "</table>\n",
       "</div>"
      ],
      "text/plain": [
       "   master_idx  removed_idx\n",
       "0           0            1\n",
       "1           0            2\n",
       "2           0            3\n",
       "3           0            4\n",
       "4           0            5"
      ]
     },
     "execution_count": 13,
     "metadata": {},
     "output_type": "execute_result"
    }
   ],
   "source": [
    "df_removed = pd.DataFrame(removed, columns=['master_idx', 'removed_idx'])\n",
    "df_removed.head()"
   ]
  },
  {
   "cell_type": "code",
   "execution_count": 14,
   "metadata": {},
   "outputs": [
    {
     "data": {
      "text/html": [
       "<div>\n",
       "<style scoped>\n",
       "    .dataframe tbody tr th:only-of-type {\n",
       "        vertical-align: middle;\n",
       "    }\n",
       "\n",
       "    .dataframe tbody tr th {\n",
       "        vertical-align: top;\n",
       "    }\n",
       "\n",
       "    .dataframe thead th {\n",
       "        text-align: right;\n",
       "    }\n",
       "</style>\n",
       "<table border=\"1\" class=\"dataframe\">\n",
       "  <thead>\n",
       "    <tr style=\"text-align: right;\">\n",
       "      <th></th>\n",
       "      <th>master_idx</th>\n",
       "      <th>removed_idx</th>\n",
       "    </tr>\n",
       "  </thead>\n",
       "  <tbody>\n",
       "    <tr>\n",
       "      <th>0</th>\n",
       "      <td>0</td>\n",
       "      <td>[1, 2, 3, 4, 5]</td>\n",
       "    </tr>\n",
       "    <tr>\n",
       "      <th>1</th>\n",
       "      <td>6</td>\n",
       "      <td>[7, 8, 9, 10, 11]</td>\n",
       "    </tr>\n",
       "    <tr>\n",
       "      <th>2</th>\n",
       "      <td>12</td>\n",
       "      <td>[13, 14]</td>\n",
       "    </tr>\n",
       "    <tr>\n",
       "      <th>3</th>\n",
       "      <td>15</td>\n",
       "      <td>[16, 17, 18, 19]</td>\n",
       "    </tr>\n",
       "    <tr>\n",
       "      <th>4</th>\n",
       "      <td>20</td>\n",
       "      <td>[21]</td>\n",
       "    </tr>\n",
       "  </tbody>\n",
       "</table>\n",
       "</div>"
      ],
      "text/plain": [
       "   master_idx        removed_idx\n",
       "0           0    [1, 2, 3, 4, 5]\n",
       "1           6  [7, 8, 9, 10, 11]\n",
       "2          12           [13, 14]\n",
       "3          15   [16, 17, 18, 19]\n",
       "4          20               [21]"
      ]
     },
     "execution_count": 14,
     "metadata": {},
     "output_type": "execute_result"
    }
   ],
   "source": [
    "df_grouped = df_removed.groupby('master_idx')['removed_idx'].apply(list).reset_index()\n",
    "df_grouped.head()"
   ]
  },
  {
   "cell_type": "code",
   "execution_count": 15,
   "metadata": {},
   "outputs": [
    {
     "data": {
      "text/html": [
       "<div>\n",
       "<style scoped>\n",
       "    .dataframe tbody tr th:only-of-type {\n",
       "        vertical-align: middle;\n",
       "    }\n",
       "\n",
       "    .dataframe tbody tr th {\n",
       "        vertical-align: top;\n",
       "    }\n",
       "\n",
       "    .dataframe thead th {\n",
       "        text-align: right;\n",
       "    }\n",
       "</style>\n",
       "<table border=\"1\" class=\"dataframe\">\n",
       "  <thead>\n",
       "    <tr style=\"text-align: right;\">\n",
       "      <th></th>\n",
       "      <th>cod</th>\n",
       "      <th>descricao</th>\n",
       "    </tr>\n",
       "  </thead>\n",
       "  <tbody>\n",
       "    <tr>\n",
       "      <th>14829</th>\n",
       "      <td>2</td>\n",
       "      <td>NIMESULIDA 100 MG COM CT BL AL PLAS INC X 12</td>\n",
       "    </tr>\n",
       "    <tr>\n",
       "      <th>14833</th>\n",
       "      <td>4</td>\n",
       "      <td>NIMESULIDA 100MG GENÉRICO CIMED 12 COMPRIMIDOS - DROGARIA SAO</td>\n",
       "    </tr>\n",
       "    <tr>\n",
       "      <th>14834</th>\n",
       "      <td>4</td>\n",
       "      <td>NIMESULIDA GEOLAB 100MG, CAIXA COM 12 COMPRIMIDOS | CR PRO</td>\n",
       "    </tr>\n",
       "    <tr>\n",
       "      <th>14835</th>\n",
       "      <td>4</td>\n",
       "      <td>PREÇOS DE NIMESULIDA - MINHA VIDA</td>\n",
       "    </tr>\n",
       "    <tr>\n",
       "      <th>14836</th>\n",
       "      <td>4</td>\n",
       "      <td>REGISTRO ANVISA Nº 126750229 - NIMESULIDA - VÁLIDO - SMERP</td>\n",
       "    </tr>\n",
       "    <tr>\n",
       "      <th>14837</th>\n",
       "      <td>4</td>\n",
       "      <td>REGISTRO ANVISA Nº 1542302340028 - NIMESULIDA - VÁLIDO - SMERP</td>\n",
       "    </tr>\n",
       "  </tbody>\n",
       "</table>\n",
       "</div>"
      ],
      "text/plain": [
       "       cod                                                       descricao\n",
       "14829    2                    NIMESULIDA 100 MG COM CT BL AL PLAS INC X 12\n",
       "14833    4   NIMESULIDA 100MG GENÉRICO CIMED 12 COMPRIMIDOS - DROGARIA SAO\n",
       "14834    4      NIMESULIDA GEOLAB 100MG, CAIXA COM 12 COMPRIMIDOS | CR PRO\n",
       "14835    4                               PREÇOS DE NIMESULIDA - MINHA VIDA\n",
       "14836    4      REGISTRO ANVISA Nº 126750229 - NIMESULIDA - VÁLIDO - SMERP\n",
       "14837    4  REGISTRO ANVISA Nº 1542302340028 - NIMESULIDA - VÁLIDO - SMERP"
      ]
     },
     "execution_count": 15,
     "metadata": {},
     "output_type": "execute_result"
    }
   ],
   "source": [
    "master, removed = df_grouped.loc[3002].values\n",
    "indexes = [master] + removed\n",
    "df.loc[indexes][['cod', 'descricao']]"
   ]
  },
  {
   "cell_type": "code",
   "execution_count": 16,
   "metadata": {},
   "outputs": [
    {
     "name": "stdout",
     "output_type": "stream",
     "text": [
      "['NIMESULIDA', '100', 'MG', 'CT', 'BL', 'AL', 'PLAS', 'INC', 'X', '12']\n",
      "100MG None \n",
      "\n",
      "NIMESULIDA GEOLAB 100MG, CAIXA COM 12 COMPRIMIDOS\n",
      "100MG 12 \n",
      "\n"
     ]
    }
   ],
   "source": [
    "# DEBUG\n",
    "\n",
    "descricao = 'NIMESULIDA 100 MG COM CT BL AL PLAS INC X 12'\n",
    "derivado = 'NIMESULIDA GEOLAB 100MG, CAIXA COM 12 COMPRIMIDOS | CR PRO'\n",
    "\n",
    "original_words = get_words(descricao)  # get non stopwords\n",
    "_, conc, _, qtd = xtc.extract(descricao)  # get principal terms\n",
    "conc, qtd = remove_separator([conc, qtd])\n",
    "print(original_words)\n",
    "print(conc, qtd, '\\n')\n",
    "\n",
    "new_desc = clean_desc(original_words, derivado)  # remove irrelevant substrings\n",
    "_, new_conc, _, new_qtd = xtc.extract(new_desc)  # get principal terms\n",
    "new_conc, new_qtd = remove_separator([new_conc, new_qtd])\n",
    "print(new_desc)\n",
    "print(new_conc, new_qtd, '\\n')\n",
    "    \n",
    "if conc == new_conc and qtd == new_qtd:\n",
    "    print('igual')"
   ]
  },
  {
   "cell_type": "markdown",
   "metadata": {},
   "source": [
    "### Removing"
   ]
  },
  {
   "cell_type": "code",
   "execution_count": 17,
   "metadata": {},
   "outputs": [
    {
     "data": {
      "text/plain": [
       "(91990, 3)"
      ]
     },
     "execution_count": 17,
     "metadata": {},
     "output_type": "execute_result"
    }
   ],
   "source": [
    "df.drop(idxs, inplace=True)\n",
    "df.dropna(inplace=True)\n",
    "df.drop_duplicates(inplace=True)\n",
    "df.shape"
   ]
  },
  {
   "cell_type": "markdown",
   "metadata": {},
   "source": [
    "#### Removendo registros  com os termos\n",
    "* BULA\n",
    "* PREÇO\n",
    "* BARATO"
   ]
  },
  {
   "cell_type": "code",
   "execution_count": 18,
   "metadata": {},
   "outputs": [
    {
     "data": {
      "text/plain": [
       "(85445, 3)"
      ]
     },
     "execution_count": 18,
     "metadata": {},
     "output_type": "execute_result"
    }
   ],
   "source": [
    "cond1 = df['cod'] == 2\n",
    "# or (\n",
    "cond2 = df['cod'] == 4\n",
    "# and\n",
    "cond3 = ~df['descricao'].str.contains('BULA|PREÇO|BARATO', regex=True)\n",
    "# )\n",
    "\n",
    "df = df[cond1 | (cond2 & cond3)]\n",
    "df.shape"
   ]
  },
  {
   "cell_type": "markdown",
   "metadata": {},
   "source": [
    "#### Removendo os termos <font color='red'>(devem ser removidos nesta ordem)</font>\n",
    "* EM MERCADO LIVRE BRASIL\n",
    "* EM MERCADO LIVRE\n",
    "* NO MERCADO LIVRE BRASIL\n",
    "* NO MERCADO LIVRE\n",
    "* COMPRAR EM ILHA DENTAL\n",
    "* COMPRAR EM AGROFORTE\n",
    "* COMPRAR EM FARMA PRATA\n",
    "* ONDE COMPRAR (apenas no início do registro)\n",
    "* COMPRAR\n",
    "* ENCONTRE (apenas no início do registro)\n",
    "\n",
    "#### Após as remoções acima, remover os registros com os termos\n",
    "* ENCONTRE"
   ]
  },
  {
   "cell_type": "code",
   "execution_count": 19,
   "metadata": {},
   "outputs": [],
   "source": [
    "pattern1 = r'(?i)(em|no)?\\s+mercado\\s+livre\\s*(brasil)?'\n",
    "pattern2 = r'(?i)comprar em (ilha dental|agroforte|farma prata)'\n",
    "pattern3 = r'(?i)(onde)?\\s*comprar'\n",
    "pattern4 = r'(?i)^encontre'\n",
    "\n",
    "replaces = {pattern1: '', \n",
    "            pattern2: '', \n",
    "            pattern3: '', \n",
    "            pattern4: '',}\n",
    "\n",
    "df.replace(replaces, regex=True, inplace=True)"
   ]
  },
  {
   "cell_type": "code",
   "execution_count": 20,
   "metadata": {},
   "outputs": [
    {
     "data": {
      "text/plain": [
       "(85445, 3)"
      ]
     },
     "execution_count": 20,
     "metadata": {},
     "output_type": "execute_result"
    }
   ],
   "source": [
    "cond1 = df['cod'] == 2\n",
    "cond2 = ~df['descricao'].str.contains('ENCONTRE')\n",
    "df = df[cond1 | cond2]\n",
    "df.shape"
   ]
  },
  {
   "cell_type": "code",
   "execution_count": 21,
   "metadata": {},
   "outputs": [
    {
     "data": {
      "text/html": [
       "<div>\n",
       "<style scoped>\n",
       "    .dataframe tbody tr th:only-of-type {\n",
       "        vertical-align: middle;\n",
       "    }\n",
       "\n",
       "    .dataframe tbody tr th {\n",
       "        vertical-align: top;\n",
       "    }\n",
       "\n",
       "    .dataframe thead th {\n",
       "        text-align: right;\n",
       "    }\n",
       "</style>\n",
       "<table border=\"1\" class=\"dataframe\">\n",
       "  <thead>\n",
       "    <tr style=\"text-align: right;\">\n",
       "      <th></th>\n",
       "      <th>cod</th>\n",
       "      <th>descricao</th>\n",
       "      <th>ean</th>\n",
       "    </tr>\n",
       "  </thead>\n",
       "  <tbody>\n",
       "  </tbody>\n",
       "</table>\n",
       "</div>"
      ],
      "text/plain": [
       "Empty DataFrame\n",
       "Columns: [cod, descricao, ean]\n",
       "Index: []"
      ]
     },
     "execution_count": 21,
     "metadata": {},
     "output_type": "execute_result"
    }
   ],
   "source": [
    "pattern = r'(?i)mercado livre|comprar|encontre'\n",
    "df[df['descricao'].str.contains(pattern)]"
   ]
  },
  {
   "cell_type": "code",
   "execution_count": 22,
   "metadata": {},
   "outputs": [
    {
     "data": {
      "text/plain": [
       "(179, 3)"
      ]
     },
     "execution_count": 22,
     "metadata": {},
     "output_type": "execute_result"
    }
   ],
   "source": [
    "pattern = r'(?i)oferta'\n",
    "df[df['descricao'].str.contains(pattern)].shape"
   ]
  },
  {
   "cell_type": "code",
   "execution_count": 23,
   "metadata": {},
   "outputs": [
    {
     "data": {
      "text/html": [
       "<div>\n",
       "<style scoped>\n",
       "    .dataframe tbody tr th:only-of-type {\n",
       "        vertical-align: middle;\n",
       "    }\n",
       "\n",
       "    .dataframe tbody tr th {\n",
       "        vertical-align: top;\n",
       "    }\n",
       "\n",
       "    .dataframe thead th {\n",
       "        text-align: right;\n",
       "    }\n",
       "</style>\n",
       "<table border=\"1\" class=\"dataframe\">\n",
       "  <thead>\n",
       "    <tr style=\"text-align: right;\">\n",
       "      <th></th>\n",
       "      <th>cod</th>\n",
       "      <th>descricao</th>\n",
       "      <th>ean</th>\n",
       "    </tr>\n",
       "  </thead>\n",
       "  <tbody>\n",
       "    <tr>\n",
       "      <th>0</th>\n",
       "      <td>2</td>\n",
       "      <td>OSTENAN 10 MG COMP REV CX COM 30</td>\n",
       "      <td>7896226102634</td>\n",
       "    </tr>\n",
       "    <tr>\n",
       "      <th>6</th>\n",
       "      <td>2</td>\n",
       "      <td>OSTENAN 10 MG COMP REV CX COM 15</td>\n",
       "      <td>7896226102627</td>\n",
       "    </tr>\n",
       "    <tr>\n",
       "      <th>12</th>\n",
       "      <td>2</td>\n",
       "      <td>TEICOPLANINA 400 MG PÓ LIOFILIZADO SOL INJ CX C/ 1 FR/AMP X 3 M</td>\n",
       "      <td>7730711011233</td>\n",
       "    </tr>\n",
       "    <tr>\n",
       "      <th>15</th>\n",
       "      <td>2</td>\n",
       "      <td>AMBROTEN XPE ADU FR COM 100ML</td>\n",
       "      <td>7896226100449</td>\n",
       "    </tr>\n",
       "    <tr>\n",
       "      <th>20</th>\n",
       "      <td>2</td>\n",
       "      <td>OXALIPLATINA 50 MG PÓ LIOFILIZADO FR/AMP X 500 MG</td>\n",
       "      <td>7730711011493</td>\n",
       "    </tr>\n",
       "  </tbody>\n",
       "</table>\n",
       "</div>"
      ],
      "text/plain": [
       "    cod                                                        descricao  \\\n",
       "0     2                                 OSTENAN 10 MG COMP REV CX COM 30   \n",
       "6     2                                 OSTENAN 10 MG COMP REV CX COM 15   \n",
       "12    2  TEICOPLANINA 400 MG PÓ LIOFILIZADO SOL INJ CX C/ 1 FR/AMP X 3 M   \n",
       "15    2                                    AMBROTEN XPE ADU FR COM 100ML   \n",
       "20    2                OXALIPLATINA 50 MG PÓ LIOFILIZADO FR/AMP X 500 MG   \n",
       "\n",
       "              ean  \n",
       "0   7896226102634  \n",
       "6   7896226102627  \n",
       "12  7730711011233  \n",
       "15  7896226100449  \n",
       "20  7730711011493  "
      ]
     },
     "execution_count": 23,
     "metadata": {},
     "output_type": "execute_result"
    }
   ],
   "source": [
    "df.head()"
   ]
  },
  {
   "cell_type": "code",
   "execution_count": 24,
   "metadata": {},
   "outputs": [],
   "source": [
    "# after removing, strip again\n",
    "df['descricao'] = df['descricao'].str.strip()"
   ]
  },
  {
   "cell_type": "code",
   "execution_count": 25,
   "metadata": {},
   "outputs": [
    {
     "name": "stdout",
     "output_type": "stream",
     "text": [
      "\tDICLOFENACO DIETILAMÔNIO 10MG/G 60G MEDLEY\n",
      "\n",
      "EUPRESSIN 10 MG COM CT STR X 7\n",
      "\n",
      "TRILEPTAL 60 MG/ML SUS OR CT FR VD AMB X 100 ML + 2 SER DOS\n",
      "\tTRILEPTAL 60MG/ML SUSPENSÃO ORAL FRASCO COM 100ML + 2 SERINGAS\n",
      "\n",
      "TRILEPTAL 600 MG COM REV CT BL AL PLAS INC X 60\n",
      "\n",
      "ZOMETA 4 MG SOL INJ CT  FA PLAS  INC X 5 ML\n",
      "\n",
      "TRILEPTAL 600 MG COM REV CT BL AL PLAS INC X 10\n",
      "\n",
      "VENORUTON 1000 MG COM EFERV CT 1 TB PLAS X 15\n",
      "\tVENORUTON 1000 MG COM EFERV CT 1 TB PLAS X 15\n",
      "\n",
      "TRILEPTAL 300 MG COM REV CT BL AL PLAS INC X 10\n",
      "\n",
      "TRILEPTAL 300 MG COM REV CT BL AL PLAS INC X 20\n",
      "\n",
      "TONOPAN 0,5 MG + 40 MG + 125 MG DRG CT BL AL PLAS INC X 16\n",
      "\n",
      "TOFRANIL 25 MG DRG CT BL AL PLAS INC X 20\n",
      "\tTOFRANIL 25 MG DRG CT BL AL PLAS INC X 20\n",
      "\tTOFRANIL 25 MG DRÁGEAS CT BL AL PLAS INC X 20\n",
      "\n",
      "ZOLIBBS 0,8 MG/ML SOL INJ CT FA VD INC X 5 ML\n",
      "\n",
      "RECONTER 10 MG COM REV CT BL AL PLAS INC X 30\n",
      "\n",
      "RECONTER 10 MG COM REV CT BL AL PLAS INC X 10\n",
      "\n",
      "RECONTER 20 MG COM REV CT BL AL PLAS INC X 30\n",
      "\tOXALATO DE ESCITALOPRAM 20 MG COM REV CT BL AL PLAS INC X 30\n"
     ]
    }
   ],
   "source": [
    "start = 5000\n",
    "end = start+20\n",
    "cod = df['cod'].tolist()[start:end]\n",
    "desc = df['descricao'].tolist()[start:end]\n",
    "lista = list(zip(cod,desc))\n",
    "for cod, desc in lista:\n",
    "    if cod == 4:\n",
    "        tab = '\\t'\n",
    "        br = ''\n",
    "    else:\n",
    "        tab = ''\n",
    "        br = '\\n'\n",
    "        original_words = [w for w in desc if len(w) > 2]\n",
    "    print('{}{}{}'.format(br,tab,desc))"
   ]
  },
  {
   "cell_type": "markdown",
   "metadata": {},
   "source": [
    "### Gravando em arquivo"
   ]
  },
  {
   "cell_type": "code",
   "execution_count": 26,
   "metadata": {},
   "outputs": [],
   "source": [
    "data_prod = 'anvisa_produto_aumentado_preproc.csv'\n",
    "df.to_csv('{}{}'.format(data_path, data_prod),\n",
    "          sep=';',\n",
    "          header=df.columns,\n",
    "          index=False,\n",
    "          encoding='utf-8')"
   ]
  },
  {
   "cell_type": "markdown",
   "metadata": {},
   "source": [
    "## Pré-processamento PRINCÍPIO ATIVO"
   ]
  },
  {
   "cell_type": "markdown",
   "metadata": {},
   "source": [
    "### Loading"
   ]
  },
  {
   "cell_type": "code",
   "execution_count": 27,
   "metadata": {},
   "outputs": [
    {
     "data": {
      "text/plain": [
       "(175341, 3)"
      ]
     },
     "execution_count": 27,
     "metadata": {},
     "output_type": "execute_result"
    }
   ],
   "source": [
    "# header => ['cod', 'descricao', 'ean']\n",
    "data_pa = 'anvisa_principio_ativo_aumentado_mod.csv'\n",
    "src = '{}{}'.format(data_path, data_pa)\n",
    "\n",
    "df = pd.read_csv(src, dtype={0:int, 1:str, 2:str}, sep=';')\n",
    "df.shape"
   ]
  },
  {
   "cell_type": "markdown",
   "metadata": {},
   "source": [
    "### Removendo substrings com base nas palavras da descrição original\n",
    "\n",
    "### Removendo registros com base nos termos principais"
   ]
  },
  {
   "cell_type": "code",
   "execution_count": 28,
   "metadata": {},
   "outputs": [],
   "source": [
    "idxs = list()\n",
    "removed = list()\n",
    "\n",
    "# iterate over dataframe\n",
    "for index, row in df.iterrows():\n",
    "    if row['cod'] == 2:\n",
    "        original_words = get_words(row['descricao'])  # get non stopwords\n",
    "        _, conc, _, qtd = xtc.extract(row['descricao'])  # get principal terms\n",
    "        conc, qtd = remove_separator([conc, qtd])\n",
    "        master_idx = index\n",
    "        continue\n",
    "        \n",
    "    new_desc = clean_desc(original_words, row['descricao'])  # remove irrelevant substrings\n",
    "    if not new_desc:\n",
    "        idxs.append(index)  # storage index for future drop\n",
    "        removed.append([master_idx, index])\n",
    "        continue\n",
    "    \n",
    "    _, new_conc, _, new_qtd = xtc.extract(new_desc)  # get principal terms\n",
    "    new_conc, new_qtd = remove_separator([new_conc, new_qtd])\n",
    "    \n",
    "    if conc == new_conc and qtd == new_qtd:\n",
    "        df.at[index,'descricao'] = new_desc  # replace descricao with cleaned new_desc\n",
    "    else:\n",
    "        idxs.append(index)  # storage index for future drop\n",
    "        removed.append([master_idx, index])"
   ]
  },
  {
   "cell_type": "markdown",
   "metadata": {},
   "source": [
    "### Removing"
   ]
  },
  {
   "cell_type": "code",
   "execution_count": 29,
   "metadata": {},
   "outputs": [
    {
     "data": {
      "text/plain": [
       "(80323, 3)"
      ]
     },
     "execution_count": 29,
     "metadata": {},
     "output_type": "execute_result"
    }
   ],
   "source": [
    "df.drop(idxs, inplace=True)\n",
    "df.dropna(inplace=True)\n",
    "df.drop_duplicates(inplace=True)\n",
    "df.shape"
   ]
  },
  {
   "cell_type": "markdown",
   "metadata": {},
   "source": [
    "#### Removendo registros  com os termos\n",
    "* BULA\n",
    "* PREÇO\n",
    "* BARATO"
   ]
  },
  {
   "cell_type": "code",
   "execution_count": 30,
   "metadata": {},
   "outputs": [
    {
     "data": {
      "text/plain": [
       "(78012, 3)"
      ]
     },
     "execution_count": 30,
     "metadata": {},
     "output_type": "execute_result"
    }
   ],
   "source": [
    "cond1 = df['cod'] == 2\n",
    "# or (\n",
    "cond2 = df['cod'] == 4\n",
    "# and\n",
    "cond3 = ~df['descricao'].str.contains('BULA|PREÇO|BARATO', regex=True)\n",
    "# )\n",
    "\n",
    "df = df[cond1 | (cond2 & cond3)]\n",
    "df.shape"
   ]
  },
  {
   "cell_type": "markdown",
   "metadata": {},
   "source": [
    "#### Removendo os termos <font color='red'>(devem ser removidos nesta ordem)</font>\n",
    "* EM MERCADO LIVRE BRASIL\n",
    "* EM MERCADO LIVRE\n",
    "* NO MERCADO LIVRE BRASIL\n",
    "* NO MERCADO LIVRE\n",
    "* COMPRAR EM ILHA DENTAL\n",
    "* COMPRAR EM AGROFORTE\n",
    "* COMPRAR EM FARMA PRATA\n",
    "* ONDE COMPRAR (apenas no início do registro)\n",
    "* COMPRAR\n",
    "* ENCONTRE (apenas no início do registro)\n",
    "\n",
    "#### Após as remoções acima, remover os registros com os termos\n",
    "* ENCONTRE"
   ]
  },
  {
   "cell_type": "code",
   "execution_count": 31,
   "metadata": {},
   "outputs": [],
   "source": [
    "pattern1 = r'(?i)(em|no)?\\s+mercado\\s+livre\\s*(brasil)?'\n",
    "pattern2 = r'(?i)comprar em (ilha dental|agroforte|farma prata)'\n",
    "pattern3 = r'(?i)(onde)?\\s*comprar'\n",
    "pattern4 = r'(?i)^encontre'\n",
    "\n",
    "replaces = {pattern1: '', \n",
    "            pattern2: '', \n",
    "            pattern3: '', \n",
    "            pattern4: '',}\n",
    "\n",
    "df.replace(replaces, regex=True, inplace=True)"
   ]
  },
  {
   "cell_type": "code",
   "execution_count": 32,
   "metadata": {},
   "outputs": [
    {
     "data": {
      "text/plain": [
       "(78012, 3)"
      ]
     },
     "execution_count": 32,
     "metadata": {},
     "output_type": "execute_result"
    }
   ],
   "source": [
    "cond1 = df['cod'] == 2\n",
    "cond2 = ~df['descricao'].str.contains('ENCONTRE')\n",
    "df = df[cond1 | cond2]\n",
    "df.shape"
   ]
  },
  {
   "cell_type": "code",
   "execution_count": 33,
   "metadata": {},
   "outputs": [],
   "source": [
    "# after removing, strip again\n",
    "df['descricao'] = df['descricao'].str.strip()"
   ]
  },
  {
   "cell_type": "markdown",
   "metadata": {},
   "source": [
    "### Gravando em arquivo"
   ]
  },
  {
   "cell_type": "code",
   "execution_count": 34,
   "metadata": {},
   "outputs": [],
   "source": [
    "data_pa = 'anvisa_principio_ativo_aumentado_preproc.csv'\n",
    "df.to_csv('{}{}'.format(data_path, data_pa),\n",
    "          sep=';',\n",
    "          header=df.columns,\n",
    "          index=False,\n",
    "          encoding='utf-8')"
   ]
  }
 ],
 "metadata": {
  "kernelspec": {
   "display_name": "Python 3",
   "language": "python",
   "name": "python3"
  },
  "language_info": {
   "codemirror_mode": {
    "name": "ipython",
    "version": 3
   },
   "file_extension": ".py",
   "mimetype": "text/x-python",
   "name": "python",
   "nbconvert_exporter": "python",
   "pygments_lexer": "ipython3",
   "version": "3.9.12"
  }
 },
 "nbformat": 4,
 "nbformat_minor": 2
}
